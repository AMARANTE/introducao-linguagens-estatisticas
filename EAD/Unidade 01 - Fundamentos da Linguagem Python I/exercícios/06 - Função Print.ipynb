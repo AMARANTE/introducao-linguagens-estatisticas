{
 "cells": [
  {
   "cell_type": "markdown",
   "metadata": {},
   "source": [
    "# Função Print\n",
    "\n",
    "## Tarefa\n",
    "Leia um número $N$.\n",
    "\n",
    "Sem utilizar nenhum método de string, tente imprimir o seguinte:\n",
    "\n",
    "$123...N$\n",
    "\n",
    "Note que \"...\" representa os valores no meio.\n",
    "\n",
    "#### Dica\n",
    "\n",
    "Utilize o operador de concatenação de strings ```+```."
   ]
  },
  {
   "cell_type": "code",
   "execution_count": 1,
   "metadata": {},
   "outputs": [
    {
     "data": {
      "text/plain": [
       "'String qualquerOutra String qualquer'"
      ]
     },
     "execution_count": 1,
     "metadata": {},
     "output_type": "execute_result"
    }
   ],
   "source": [
    "str1 = \"String qualquer\"\n",
    "str2 = \"Outra String qualquer\"\n",
    "\n",
    "str1 + str2"
   ]
  },
  {
   "cell_type": "markdown",
   "metadata": {},
   "source": [
    "### Formato de Entrada\n",
    "\n",
    "A primeira linha contém um inteiro.\n",
    "\n",
    "### Formato de Saída\n",
    "\n",
    "Imprima a resposta como explicado na tarefa.\n",
    "\n",
    "### Exemplo de Entrada 0\n",
    "\n",
    "```\n",
    "3\n",
    "```\n",
    "\n",
    "### Exemplo de Saída 0\n",
    "\n",
    "```\n",
    "123\n",
    "```\n",
    "\n",
    "\n",
    "## Submissão do Código\n",
    "\n",
    "Para submissão e codificação da tarefa utilizar o link a seguir: https://www.hackerrank.com/contests/ead-fundamentos-python-i/challenges/python-print. Essa paǵina é apenas a tradução das instruções do link anterior."
   ]
  }
 ],
 "metadata": {
  "kernelspec": {
   "display_name": "Python 3",
   "language": "python",
   "name": "python3"
  },
  "language_info": {
   "codemirror_mode": {
    "name": "ipython",
    "version": 3
   },
   "file_extension": ".py",
   "mimetype": "text/x-python",
   "name": "python",
   "nbconvert_exporter": "python",
   "pygments_lexer": "ipython3",
   "version": "3.5.2"
  }
 },
 "nbformat": 4,
 "nbformat_minor": 2
}

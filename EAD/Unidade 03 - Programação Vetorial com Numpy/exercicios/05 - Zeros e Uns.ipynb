{
 "cells": [
  {
   "cell_type": "markdown",
   "metadata": {},
   "source": [
    "# Zeros e Uns\n",
    "\n",
    "\n",
    "## Zeros\n",
    "\n",
    "O método [```zeros```](https://docs.scipy.org/doc/numpy/reference/generated/numpy.zeros.html#numpy-zeros) retorna um novo array preenchido com 0's com a dimensão informada por uma tupla."
   ]
  },
  {
   "cell_type": "code",
   "execution_count": 1,
   "metadata": {},
   "outputs": [
    {
     "data": {
      "text/plain": [
       "array([[ 0.,  0.]])"
      ]
     },
     "execution_count": 1,
     "metadata": {},
     "output_type": "execute_result"
    }
   ],
   "source": [
    "import numpy\n",
    "\n",
    "numpy.zeros((1,2))                    #Tipo padrão é float"
   ]
  },
  {
   "cell_type": "code",
   "execution_count": 2,
   "metadata": {},
   "outputs": [
    {
     "data": {
      "text/plain": [
       "array([[0, 0]])"
      ]
     },
     "execution_count": 2,
     "metadata": {},
     "output_type": "execute_result"
    }
   ],
   "source": [
    "numpy.zeros((1,2), dtype = numpy.int) #Tipo trocado para int"
   ]
  },
  {
   "cell_type": "markdown",
   "metadata": {},
   "source": [
    "## Uns\n",
    "\n",
    "O método [```ones```](https://docs.scipy.org/doc/numpy/reference/generated/numpy.ones.html#numpy-ones) retorna um novo array preenchido com 1's com a dimensão informada por uma tupla."
   ]
  },
  {
   "cell_type": "code",
   "execution_count": 4,
   "metadata": {},
   "outputs": [
    {
     "data": {
      "text/plain": [
       "array([[ 1.,  1.]])"
      ]
     },
     "execution_count": 4,
     "metadata": {},
     "output_type": "execute_result"
    }
   ],
   "source": [
    "import numpy\n",
    "\n",
    "numpy.ones((1,2))                    #Tipo padrão é float"
   ]
  },
  {
   "cell_type": "code",
   "execution_count": 5,
   "metadata": {},
   "outputs": [
    {
     "data": {
      "text/plain": [
       "array([[1, 1]])"
      ]
     },
     "execution_count": 5,
     "metadata": {},
     "output_type": "execute_result"
    }
   ],
   "source": [
    "numpy.ones((1,2), dtype = numpy.int) #Tipo trocado para int"
   ]
  },
  {
   "cell_type": "markdown",
   "metadata": {},
   "source": [
    "## Tarefas\n",
    "\n",
    "A você será dado as dimensões do array na forma de inteiros separados por espaço, cada inteiro representando o tamanho de uma dimensão distinta. Sua tarefa é imprimir um array com as dimensões informadas, utilizando os métodos [```numpy.zeros```]() e ```numpy.ones```.\n",
    "\n",
    "### Formato de Entrada\n",
    "\n",
    "Uma linha contendo inteiros separados por espaço.\n",
    "\n",
    "### Restrições\n",
    "\n",
    "O valores dos inteiros na primeira linha pode variar de 1 a 3 (ambos inclusos). Note que pode a quantidade de números inteiros é indefinida, ou seja, a array pode ter várias dimensões (por exemplo, o array poderia ter 20 dimensões).\n",
    "\n",
    "### Formato de Saída\n",
    "\n",
    "Primeiro, imprima o array criado com ```numpy.zeros``` e, então, imprima array criado com ```numpy.ones```.\n",
    "\n",
    "### Exemplo de Entrada\n",
    "\n",
    "```\n",
    "3 3 3\n",
    "```\n",
    "\n",
    "### Exemplo de Saída \n",
    "\n",
    "```\n",
    "[[[0 0 0]\n",
    "  [0 0 0]\n",
    "  [0 0 0]]\n",
    "\n",
    " [[0 0 0]\n",
    "  [0 0 0]\n",
    "  [0 0 0]]\n",
    "\n",
    " [[0 0 0]\n",
    "  [0 0 0]\n",
    "  [0 0 0]]]\n",
    "[[[1 1 1]\n",
    "  [1 1 1]\n",
    "  [1 1 1]]\n",
    "\n",
    " [[1 1 1]\n",
    "  [1 1 1]\n",
    "  [1 1 1]]\n",
    "\n",
    " [[1 1 1]\n",
    "  [1 1 1]\n",
    "  [1 1 1]]]\n",
    "```\n",
    "\n",
    "## Passos para resolução\n",
    "\n",
    "1) Receba os números que representarão a dimensão da matriz a ser gerada;\n",
    "\n",
    "2) Gere uma \"tupla\" com a dimensão informada (no exemplo: 3x3x3, mas lembre-se que o problema não está limitado a 3 dimensões);\n",
    "\n",
    "3) Imprima uma matriz com a dimensão informada preenchida com \"zeros\" e outra com \"uns\".\n",
    "\n",
    "## Submissão do Código\n",
    "\n",
    "Para submissão e codificação da tarefa utilizar o link a seguir: https://www.hackerrank.com/contests/ead-vetorizacao-com-numpy/challenges/np-zeros-and-ones. Essa paǵina é apenas a tradução das instruções do link anterior."
   ]
  }
 ],
 "metadata": {
  "kernelspec": {
   "display_name": "Python 3",
   "language": "python",
   "name": "python3"
  },
  "language_info": {
   "codemirror_mode": {
    "name": "ipython",
    "version": 2
   },
   "file_extension": ".py",
   "mimetype": "text/x-python",
   "name": "python",
   "nbconvert_exporter": "python",
   "pygments_lexer": "ipython2",
   "version": "2.7.12"
  }
 },
 "nbformat": 4,
 "nbformat_minor": 2
}

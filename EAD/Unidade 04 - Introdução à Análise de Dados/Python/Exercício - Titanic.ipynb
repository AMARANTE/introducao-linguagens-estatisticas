{
 "cells": [
  {
   "cell_type": "markdown",
   "metadata": {},
   "source": [
    "# Análise do Titanic\n",
    "\n",
    "Quero que você faça uma análise da tragédia do Titanic, verifique quais são as características mais importantes para a morte de um indivíduo nessa tragédia. Para isso, você vai utilizar os dados que estão no arquivo **titanic.csv** na pasta **dados**. Esses dados foram retirados da plataforma Kaggle, para maiores informações sobre as colunas e seus valores acessar [aqui](https://www.kaggle.com/c/titanic/data).\n",
    "\n",
    "### Importando os pacotes para análise"
   ]
  },
  {
   "cell_type": "code",
   "execution_count": 1,
   "metadata": {
    "collapsed": true
   },
   "outputs": [],
   "source": [
    "# para manipulação dos dados\n",
    "import pandas as pd\n",
    "# para visualização\n",
    "from plotnine import *\n",
    "import matplotlib.pyplot as plt\n",
    "\n",
    "# para que os gráficos sejam\n",
    "# mostrados\n",
    "%matplotlib inline"
   ]
  },
  {
   "cell_type": "markdown",
   "metadata": {},
   "source": [
    "### Carregando o conjunto de dados\n",
    "\n",
    "Carregue o conjunto de dados, que se encontra em *\"../dados/titanic.csv\"*, com auxílio do método ```pd.read_csv```"
   ]
  },
  {
   "cell_type": "code",
   "execution_count": 22,
   "metadata": {},
   "outputs": [],
   "source": [
    "# Para mais informações sobre\n",
    "# o funcionamento do método\n",
    "# execute o seguinte comando:\n",
    "# ?pd.read_csv\n",
    "\n",
    "# Faça o carregamento aqui.\n",
    "# df = pd.read_csv(...)"
   ]
  },
  {
   "cell_type": "markdown",
   "metadata": {},
   "source": [
    "### Tendo uma visão geral do conjunto de dados\n",
    "\n",
    "Imprima as 10 primeira linhas do dataframe com o método ```df.head``` e, em seguita, imprima as estatísticas gerais do conjunto de dados com o método ```df.describe```."
   ]
  },
  {
   "cell_type": "code",
   "execution_count": 14,
   "metadata": {},
   "outputs": [],
   "source": [
    "# use o head aqui..."
   ]
  },
  {
   "cell_type": "code",
   "execution_count": 21,
   "metadata": {},
   "outputs": [],
   "source": [
    "# use o método describe aqui...\n",
    "# lembre-se de utilizar o argumento\n",
    "# `include=\"all\"`, para obter as\n",
    "# estatísticas das colunas categóricas e numéricas."
   ]
  },
  {
   "cell_type": "markdown",
   "metadata": {},
   "source": [
    "### Transformando colunas Survived e Pclass em categóricas\n",
    "\n",
    "Note que os tipos das colunas Survived e Pclass foram armazenadas com valores numéricos e , portanto, o pandas inferiu que elas fossem numéricas no dataframe. Porém, elas tem mais uma conotação de categoria, pois estamos classificando algo com elas. Portanto, vamos tratá-las como colunas categóricas. Para isso, precisamos apenas converter para o tipo do pandas chamado \"category\"."
   ]
  },
  {
   "cell_type": "code",
   "execution_count": 32,
   "metadata": {},
   "outputs": [
    {
     "data": {
      "text/plain": [
       "0        morreu\n",
       "1    sobreviveu\n",
       "2    sobreviveu\n",
       "3    sobreviveu\n",
       "4        morreu\n",
       "Name: cat_Survived, dtype: category\n",
       "Categories (2, object): [morreu, sobreviveu]"
      ]
     },
     "execution_count": 32,
     "metadata": {},
     "output_type": "execute_result"
    }
   ],
   "source": [
    "# Estou transformando os rótulos `zero` e `um` em algo mais legível com a função apply\n",
    "# e, então, convertendo a series para o tipo categórico com a função astype\n",
    "df['cat_Survived'] = df.Survived.apply(lambda x: [\"morreu\", \"sobreviveu\"][x]).astype(\"category\")\n",
    "\n",
    "# veja o resultado a seguir\n",
    "df['cat_Survived'].head()"
   ]
  },
  {
   "cell_type": "code",
   "execution_count": 31,
   "metadata": {},
   "outputs": [],
   "source": [
    "# Faça o mesmo com a coluna Pclass\n",
    "# df['cat_Pclass'] = ..."
   ]
  },
  {
   "cell_type": "markdown",
   "metadata": {},
   "source": [
    "### Execute o df.describe novamente"
   ]
  },
  {
   "cell_type": "code",
   "execution_count": 33,
   "metadata": {
    "collapsed": true
   },
   "outputs": [],
   "source": [
    "# use o método describe aqui...\n",
    "# lembre-se de utilizar o argumento\n",
    "# `include=\"all\"`, para obter as\n",
    "# estatísticas das colunas categóricas e numéricas."
   ]
  },
  {
   "cell_type": "code",
   "execution_count": 46,
   "metadata": {},
   "outputs": [
    {
     "data": {
      "image/png": "[encoded data removed]",
      "text/plain": [
       "<Figure size 600x400 with 1 Axes>"
      ]
     },
     "metadata": {},
     "output_type": "display_data"
    },
    {
     "data": {
      "text/plain": [
       "<ggplot: (8745438926057)>"
      ]
     },
     "execution_count": 46,
     "metadata": {},
     "output_type": "execute_result"
    }
   ],
   "source": [
    "ggplot(df, aes(x = \"factor(Pclass)\", y = \"Fare\", color=\"cat_Survived\")) + \\\n",
    "geom_boxplot()"
   ]
  }
 ],
 "metadata": {
  "kernelspec": {
   "display_name": "Python 3",
   "language": "python",
   "name": "python3"
  },
  "language_info": {
   "codemirror_mode": {
    "name": "ipython",
    "version": 2
   },
   "file_extension": ".py",
   "mimetype": "text/x-python",
   "name": "python",
   "nbconvert_exporter": "python",
   "pygments_lexer": "ipython2",
   "version": "2.7.12"
  }
 },
 "nbformat": 4,
 "nbformat_minor": 2
}

{
 "cells": [
  {
   "cell_type": "markdown",
   "metadata": {},
   "source": [
    "# Data Frame\n",
    "\n",
    "Data frame é uma estrutura de dados bidimensional em R. É uma caso especial de uma lista que possui componentes de tamanhos iguais. Cada compontente forma uma coluna."
   ]
  },
  {
   "cell_type": "code",
   "execution_count": 1,
   "metadata": {},
   "outputs": [
    {
     "data": {
      "text/html": [
       "<table>\n",
       "<thead><tr><th scope=col>id</th><th scope=col>idade</th></tr></thead>\n",
       "<tbody>\n",
       "\t<tr><td>1 </td><td>32</td></tr>\n",
       "\t<tr><td>2 </td><td>21</td></tr>\n",
       "</tbody>\n",
       "</table>\n"
      ],
      "text/latex": [
       "\\begin{tabular}{r|ll}\n",
       " id & idade\\\\\n",
       "\\hline\n",
       "\t 1  & 32\\\\\n",
       "\t 2  & 21\\\\\n",
       "\\end{tabular}\n"
      ],
      "text/markdown": [
       "\n",
       "id | idade | \n",
       "|---|---|\n",
       "| 1  | 32 | \n",
       "| 2  | 21 | \n",
       "\n",
       "\n"
      ],
      "text/plain": [
       "  id idade\n",
       "1 1  32   \n",
       "2 2  21   "
      ]
     },
     "metadata": {},
     "output_type": "display_data"
    }
   ],
   "source": [
    "x = data.frame(\"id\"=1:2, \"idade\"= c(32, 21)); x"
   ]
  },
  {
   "cell_type": "code",
   "execution_count": 2,
   "metadata": {},
   "outputs": [
    {
     "data": {
      "text/html": [
       "'list'"
      ],
      "text/latex": [
       "'list'"
      ],
      "text/markdown": [
       "'list'"
      ],
      "text/plain": [
       "[1] \"list\""
      ]
     },
     "metadata": {},
     "output_type": "display_data"
    }
   ],
   "source": [
    "typeof(x)"
   ]
  },
  {
   "cell_type": "code",
   "execution_count": 3,
   "metadata": {},
   "outputs": [
    {
     "data": {
      "text/html": [
       "'data.frame'"
      ],
      "text/latex": [
       "'data.frame'"
      ],
      "text/markdown": [
       "'data.frame'"
      ],
      "text/plain": [
       "[1] \"data.frame\""
      ]
     },
     "metadata": {},
     "output_type": "display_data"
    }
   ],
   "source": [
    "class(x)"
   ]
  },
  {
   "cell_type": "markdown",
   "metadata": {},
   "source": [
    "## Funções do Data Frame"
   ]
  },
  {
   "cell_type": "code",
   "execution_count": 4,
   "metadata": {},
   "outputs": [
    {
     "data": {
      "text/html": [
       "<ol class=list-inline>\n",
       "\t<li>'id'</li>\n",
       "\t<li>'idade'</li>\n",
       "</ol>\n"
      ],
      "text/latex": [
       "\\begin{enumerate*}\n",
       "\\item 'id'\n",
       "\\item 'idade'\n",
       "\\end{enumerate*}\n"
      ],
      "text/markdown": [
       "1. 'id'\n",
       "2. 'idade'\n",
       "\n",
       "\n"
      ],
      "text/plain": [
       "[1] \"id\"    \"idade\""
      ]
     },
     "metadata": {},
     "output_type": "display_data"
    }
   ],
   "source": [
    "names(x)"
   ]
  },
  {
   "cell_type": "code",
   "execution_count": 5,
   "metadata": {},
   "outputs": [
    {
     "data": {
      "text/html": [
       "2"
      ],
      "text/latex": [
       "2"
      ],
      "text/markdown": [
       "2"
      ],
      "text/plain": [
       "[1] 2"
      ]
     },
     "metadata": {},
     "output_type": "display_data"
    }
   ],
   "source": [
    "ncol(x)"
   ]
  },
  {
   "cell_type": "code",
   "execution_count": 6,
   "metadata": {},
   "outputs": [
    {
     "data": {
      "text/html": [
       "2"
      ],
      "text/latex": [
       "2"
      ],
      "text/markdown": [
       "2"
      ],
      "text/plain": [
       "[1] 2"
      ]
     },
     "metadata": {},
     "output_type": "display_data"
    }
   ],
   "source": [
    "nrow(x)"
   ]
  },
  {
   "cell_type": "code",
   "execution_count": 7,
   "metadata": {},
   "outputs": [
    {
     "data": {
      "text/html": [
       "2"
      ],
      "text/latex": [
       "2"
      ],
      "text/markdown": [
       "2"
      ],
      "text/plain": [
       "[1] 2"
      ]
     },
     "metadata": {},
     "output_type": "display_data"
    }
   ],
   "source": [
    "length(x)"
   ]
  },
  {
   "cell_type": "markdown",
   "metadata": {},
   "source": [
    "## Criando um Data Frame"
   ]
  },
  {
   "cell_type": "code",
   "execution_count": 8,
   "metadata": {},
   "outputs": [
    {
     "name": "stdout",
     "output_type": "stream",
     "text": [
      "'data.frame':\t2 obs. of  3 variables:\n",
      " $ id   : int  1 2\n",
      " $ idade: num  21 15\n",
      " $ nome : Factor w/ 2 levels \"Dória Silva\",..: 2 1\n"
     ]
    }
   ],
   "source": [
    "x = data.frame(\"id\" = 1:2, \"idade\" = c(21,15), \"nome\" = c(\"José Lima\",\"Dória Silva\")); str(x)"
   ]
  },
  {
   "cell_type": "code",
   "execution_count": 9,
   "metadata": {},
   "outputs": [
    {
     "name": "stdout",
     "output_type": "stream",
     "text": [
      "'data.frame':\t2 obs. of  3 variables:\n",
      " $ id   : int  1 2\n",
      " $ idade: num  21 15\n",
      " $ nome : chr  \"José Lima\" \"Dória Silva\"\n"
     ]
    }
   ],
   "source": [
    "x = data.frame(\"id\" = 1:2, \"idade\" = c(21,15), \"nome\" = c(\"José Lima\",\"Dória Silva\"), \n",
    "               stringsAsFactors=FALSE); str(x)"
   ]
  },
  {
   "cell_type": "markdown",
   "metadata": {},
   "source": [
    "## Lidando com valores nulos"
   ]
  },
  {
   "cell_type": "code",
   "execution_count": 10,
   "metadata": {},
   "outputs": [
    {
     "name": "stdout",
     "output_type": "stream",
     "text": [
      "'data.frame':\t2 obs. of  3 variables:\n",
      " $ id   : int  1 2\n",
      " $ idade: num  21 NA\n",
      " $ nome : Factor w/ 2 levels \"Dória Silva\",..: 2 1\n"
     ]
    }
   ],
   "source": [
    "x = data.frame(\"id\" = 1:2, \"idade\" = c(21, NA), \"nome\" = c(\"José Lima\",\"Dória Silva\")); str(x)"
   ]
  },
  {
   "cell_type": "code",
   "execution_count": 11,
   "metadata": {},
   "outputs": [
    {
     "data": {
      "text/html": [
       "&lt;NA&gt;"
      ],
      "text/latex": [
       "<NA>"
      ],
      "text/markdown": [
       "&lt;NA&gt;"
      ],
      "text/plain": [
       "[1] NA"
      ]
     },
     "metadata": {},
     "output_type": "display_data"
    }
   ],
   "source": [
    "mean(x[,'idade'])"
   ]
  },
  {
   "cell_type": "code",
   "execution_count": 12,
   "metadata": {},
   "outputs": [
    {
     "data": {
      "text/html": [
       "21"
      ],
      "text/latex": [
       "21"
      ],
      "text/markdown": [
       "21"
      ],
      "text/plain": [
       "[1] 21"
      ]
     },
     "metadata": {},
     "output_type": "display_data"
    }
   ],
   "source": [
    "mean(x[!is.na(x[,'idade']),'idade'])"
   ]
  },
  {
   "cell_type": "code",
   "execution_count": 14,
   "metadata": {
    "collapsed": true
   },
   "outputs": [],
   "source": [
    "x[is.na(x[,'idade']),'idade'] <- 30"
   ]
  },
  {
   "cell_type": "code",
   "execution_count": 13,
   "metadata": {},
   "outputs": [
    {
     "data": {
      "text/html": [
       "<table>\n",
       "<thead><tr><th scope=col>id</th><th scope=col>idade</th><th scope=col>nome</th></tr></thead>\n",
       "<tbody>\n",
       "\t<tr><td>1          </td><td>21         </td><td>José Lima  </td></tr>\n",
       "\t<tr><td>2          </td><td>NA         </td><td>Dória Silva</td></tr>\n",
       "</tbody>\n",
       "</table>\n"
      ],
      "text/latex": [
       "\\begin{tabular}{r|lll}\n",
       " id & idade & nome\\\\\n",
       "\\hline\n",
       "\t 1           & 21          & José Lima  \\\\\n",
       "\t 2           & NA          & Dória Silva\\\\\n",
       "\\end{tabular}\n"
      ],
      "text/markdown": [
       "\n",
       "id | idade | nome | \n",
       "|---|---|\n",
       "| 1           | 21          | José Lima   | \n",
       "| 2           | NA          | Dória Silva | \n",
       "\n",
       "\n"
      ],
      "text/plain": [
       "  id idade nome       \n",
       "1 1  21    José Lima  \n",
       "2 2  NA    Dória Silva"
      ]
     },
     "metadata": {},
     "output_type": "display_data"
    }
   ],
   "source": [
    "x"
   ]
  },
  {
   "cell_type": "markdown",
   "metadata": {},
   "source": [
    "### Lendo Data Frame de um Arquivo CSV"
   ]
  },
  {
   "cell_type": "code",
   "execution_count": 16,
   "metadata": {
    "collapsed": true
   },
   "outputs": [],
   "source": [
    "df = read.csv(\"../dados/iris-dataset.csv\", header=FALSE)"
   ]
  },
  {
   "cell_type": "code",
   "execution_count": 18,
   "metadata": {},
   "outputs": [
    {
     "data": {
      "text/html": [
       "<table>\n",
       "<thead><tr><th scope=col>V1</th><th scope=col>V2</th><th scope=col>V3</th><th scope=col>V4</th><th scope=col>V5</th></tr></thead>\n",
       "<tbody>\n",
       "\t<tr><td>5.1        </td><td>3.5        </td><td>1.4        </td><td>0.2        </td><td>Iris-setosa</td></tr>\n",
       "\t<tr><td>4.9        </td><td>3.0        </td><td>1.4        </td><td>0.2        </td><td>Iris-setosa</td></tr>\n",
       "\t<tr><td>4.7        </td><td>3.2        </td><td>1.3        </td><td>0.2        </td><td>Iris-setosa</td></tr>\n",
       "\t<tr><td>4.6        </td><td>3.1        </td><td>1.5        </td><td>0.2        </td><td>Iris-setosa</td></tr>\n",
       "\t<tr><td>5.0        </td><td>3.6        </td><td>1.4        </td><td>0.2        </td><td>Iris-setosa</td></tr>\n",
       "\t<tr><td>5.4        </td><td>3.9        </td><td>1.7        </td><td>0.4        </td><td>Iris-setosa</td></tr>\n",
       "</tbody>\n",
       "</table>\n"
      ],
      "text/latex": [
       "\\begin{tabular}{r|lllll}\n",
       " V1 & V2 & V3 & V4 & V5\\\\\n",
       "\\hline\n",
       "\t 5.1         & 3.5         & 1.4         & 0.2         & Iris-setosa\\\\\n",
       "\t 4.9         & 3.0         & 1.4         & 0.2         & Iris-setosa\\\\\n",
       "\t 4.7         & 3.2         & 1.3         & 0.2         & Iris-setosa\\\\\n",
       "\t 4.6         & 3.1         & 1.5         & 0.2         & Iris-setosa\\\\\n",
       "\t 5.0         & 3.6         & 1.4         & 0.2         & Iris-setosa\\\\\n",
       "\t 5.4         & 3.9         & 1.7         & 0.4         & Iris-setosa\\\\\n",
       "\\end{tabular}\n"
      ],
      "text/markdown": [
       "\n",
       "V1 | V2 | V3 | V4 | V5 | \n",
       "|---|---|---|---|---|---|\n",
       "| 5.1         | 3.5         | 1.4         | 0.2         | Iris-setosa | \n",
       "| 4.9         | 3.0         | 1.4         | 0.2         | Iris-setosa | \n",
       "| 4.7         | 3.2         | 1.3         | 0.2         | Iris-setosa | \n",
       "| 4.6         | 3.1         | 1.5         | 0.2         | Iris-setosa | \n",
       "| 5.0         | 3.6         | 1.4         | 0.2         | Iris-setosa | \n",
       "| 5.4         | 3.9         | 1.7         | 0.4         | Iris-setosa | \n",
       "\n",
       "\n"
      ],
      "text/plain": [
       "  V1  V2  V3  V4  V5         \n",
       "1 5.1 3.5 1.4 0.2 Iris-setosa\n",
       "2 4.9 3.0 1.4 0.2 Iris-setosa\n",
       "3 4.7 3.2 1.3 0.2 Iris-setosa\n",
       "4 4.6 3.1 1.5 0.2 Iris-setosa\n",
       "5 5.0 3.6 1.4 0.2 Iris-setosa\n",
       "6 5.4 3.9 1.7 0.4 Iris-setosa"
      ]
     },
     "metadata": {},
     "output_type": "display_data"
    }
   ],
   "source": [
    "head(df)"
   ]
  },
  {
   "cell_type": "code",
   "execution_count": 19,
   "metadata": {},
   "outputs": [
    {
     "data": {
      "text/html": [
       "<table>\n",
       "<thead><tr><th></th><th scope=col>V1</th><th scope=col>V2</th><th scope=col>V3</th><th scope=col>V4</th><th scope=col>V5</th></tr></thead>\n",
       "<tbody>\n",
       "\t<tr><th scope=row>145</th><td>6.7           </td><td>3.3           </td><td>5.7           </td><td>2.5           </td><td>Iris-virginica</td></tr>\n",
       "\t<tr><th scope=row>146</th><td>6.7           </td><td>3.0           </td><td>5.2           </td><td>2.3           </td><td>Iris-virginica</td></tr>\n",
       "\t<tr><th scope=row>147</th><td>6.3           </td><td>2.5           </td><td>5.0           </td><td>1.9           </td><td>Iris-virginica</td></tr>\n",
       "\t<tr><th scope=row>148</th><td>6.5           </td><td>3.0           </td><td>5.2           </td><td>2.0           </td><td>Iris-virginica</td></tr>\n",
       "\t<tr><th scope=row>149</th><td>6.2           </td><td>3.4           </td><td>5.4           </td><td>2.3           </td><td>Iris-virginica</td></tr>\n",
       "\t<tr><th scope=row>150</th><td>5.9           </td><td>3.0           </td><td>5.1           </td><td>1.8           </td><td>Iris-virginica</td></tr>\n",
       "</tbody>\n",
       "</table>\n"
      ],
      "text/latex": [
       "\\begin{tabular}{r|lllll}\n",
       "  & V1 & V2 & V3 & V4 & V5\\\\\n",
       "\\hline\n",
       "\t145 & 6.7            & 3.3            & 5.7            & 2.5            & Iris-virginica\\\\\n",
       "\t146 & 6.7            & 3.0            & 5.2            & 2.3            & Iris-virginica\\\\\n",
       "\t147 & 6.3            & 2.5            & 5.0            & 1.9            & Iris-virginica\\\\\n",
       "\t148 & 6.5            & 3.0            & 5.2            & 2.0            & Iris-virginica\\\\\n",
       "\t149 & 6.2            & 3.4            & 5.4            & 2.3            & Iris-virginica\\\\\n",
       "\t150 & 5.9            & 3.0            & 5.1            & 1.8            & Iris-virginica\\\\\n",
       "\\end{tabular}\n"
      ],
      "text/markdown": [
       "\n",
       "| <!--/--> | V1 | V2 | V3 | V4 | V5 | \n",
       "|---|---|---|---|---|---|\n",
       "| 145 | 6.7            | 3.3            | 5.7            | 2.5            | Iris-virginica | \n",
       "| 146 | 6.7            | 3.0            | 5.2            | 2.3            | Iris-virginica | \n",
       "| 147 | 6.3            | 2.5            | 5.0            | 1.9            | Iris-virginica | \n",
       "| 148 | 6.5            | 3.0            | 5.2            | 2.0            | Iris-virginica | \n",
       "| 149 | 6.2            | 3.4            | 5.4            | 2.3            | Iris-virginica | \n",
       "| 150 | 5.9            | 3.0            | 5.1            | 1.8            | Iris-virginica | \n",
       "\n",
       "\n"
      ],
      "text/plain": [
       "    V1  V2  V3  V4  V5            \n",
       "145 6.7 3.3 5.7 2.5 Iris-virginica\n",
       "146 6.7 3.0 5.2 2.3 Iris-virginica\n",
       "147 6.3 2.5 5.0 1.9 Iris-virginica\n",
       "148 6.5 3.0 5.2 2.0 Iris-virginica\n",
       "149 6.2 3.4 5.4 2.3 Iris-virginica\n",
       "150 5.9 3.0 5.1 1.8 Iris-virginica"
      ]
     },
     "metadata": {},
     "output_type": "display_data"
    }
   ],
   "source": [
    "tail(df)"
   ]
  },
  {
   "cell_type": "code",
   "execution_count": 20,
   "metadata": {},
   "outputs": [
    {
     "data": {
      "text/plain": [
       "       V1              V2              V3              V4       \n",
       " Min.   :4.300   Min.   :2.000   Min.   :1.000   Min.   :0.100  \n",
       " 1st Qu.:5.100   1st Qu.:2.800   1st Qu.:1.600   1st Qu.:0.300  \n",
       " Median :5.800   Median :3.000   Median :4.350   Median :1.300  \n",
       " Mean   :5.843   Mean   :3.054   Mean   :3.759   Mean   :1.199  \n",
       " 3rd Qu.:6.400   3rd Qu.:3.300   3rd Qu.:5.100   3rd Qu.:1.800  \n",
       " Max.   :7.900   Max.   :4.400   Max.   :6.900   Max.   :2.500  \n",
       "               V5    \n",
       " Iris-setosa    :50  \n",
       " Iris-versicolor:50  \n",
       " Iris-virginica :50  \n",
       "                     \n",
       "                     \n",
       "                     "
      ]
     },
     "metadata": {},
     "output_type": "display_data"
    }
   ],
   "source": [
    "# python era df.describe()\n",
    "summary(df)"
   ]
  },
  {
   "cell_type": "markdown",
   "metadata": {},
   "source": [
    "### Alterando o nome das colunas"
   ]
  },
  {
   "cell_type": "code",
   "execution_count": 21,
   "metadata": {},
   "outputs": [
    {
     "data": {
      "text/html": [
       "<table>\n",
       "<thead><tr><th scope=col>sepal_length</th><th scope=col>sepal_width</th><th scope=col>petal_length</th><th scope=col>sepal_width</th><th scope=col>species</th></tr></thead>\n",
       "<tbody>\n",
       "\t<tr><td>5.1        </td><td>3.5        </td><td>1.4        </td><td>0.2        </td><td>Iris-setosa</td></tr>\n",
       "\t<tr><td>4.9        </td><td>3.0        </td><td>1.4        </td><td>0.2        </td><td>Iris-setosa</td></tr>\n",
       "\t<tr><td>4.7        </td><td>3.2        </td><td>1.3        </td><td>0.2        </td><td>Iris-setosa</td></tr>\n",
       "\t<tr><td>4.6        </td><td>3.1        </td><td>1.5        </td><td>0.2        </td><td>Iris-setosa</td></tr>\n",
       "\t<tr><td>5.0        </td><td>3.6        </td><td>1.4        </td><td>0.2        </td><td>Iris-setosa</td></tr>\n",
       "\t<tr><td>5.4        </td><td>3.9        </td><td>1.7        </td><td>0.4        </td><td>Iris-setosa</td></tr>\n",
       "</tbody>\n",
       "</table>\n"
      ],
      "text/latex": [
       "\\begin{tabular}{r|lllll}\n",
       " sepal\\_length & sepal\\_width & petal\\_length & sepal\\_width & species\\\\\n",
       "\\hline\n",
       "\t 5.1         & 3.5         & 1.4         & 0.2         & Iris-setosa\\\\\n",
       "\t 4.9         & 3.0         & 1.4         & 0.2         & Iris-setosa\\\\\n",
       "\t 4.7         & 3.2         & 1.3         & 0.2         & Iris-setosa\\\\\n",
       "\t 4.6         & 3.1         & 1.5         & 0.2         & Iris-setosa\\\\\n",
       "\t 5.0         & 3.6         & 1.4         & 0.2         & Iris-setosa\\\\\n",
       "\t 5.4         & 3.9         & 1.7         & 0.4         & Iris-setosa\\\\\n",
       "\\end{tabular}\n"
      ],
      "text/markdown": [
       "\n",
       "sepal_length | sepal_width | petal_length | sepal_width | species | \n",
       "|---|---|---|---|---|---|\n",
       "| 5.1         | 3.5         | 1.4         | 0.2         | Iris-setosa | \n",
       "| 4.9         | 3.0         | 1.4         | 0.2         | Iris-setosa | \n",
       "| 4.7         | 3.2         | 1.3         | 0.2         | Iris-setosa | \n",
       "| 4.6         | 3.1         | 1.5         | 0.2         | Iris-setosa | \n",
       "| 5.0         | 3.6         | 1.4         | 0.2         | Iris-setosa | \n",
       "| 5.4         | 3.9         | 1.7         | 0.4         | Iris-setosa | \n",
       "\n",
       "\n"
      ],
      "text/plain": [
       "  sepal_length sepal_width petal_length sepal_width species    \n",
       "1 5.1          3.5         1.4          0.2         Iris-setosa\n",
       "2 4.9          3.0         1.4          0.2         Iris-setosa\n",
       "3 4.7          3.2         1.3          0.2         Iris-setosa\n",
       "4 4.6          3.1         1.5          0.2         Iris-setosa\n",
       "5 5.0          3.6         1.4          0.2         Iris-setosa\n",
       "6 5.4          3.9         1.7          0.4         Iris-setosa"
      ]
     },
     "metadata": {},
     "output_type": "display_data"
    }
   ],
   "source": [
    "colnames(df) = c(\"sepal_length\", \"sepal_width\", \"petal_length\", \"sepal_width\", \"species\")\n",
    "head(df)"
   ]
  },
  {
   "cell_type": "markdown",
   "metadata": {},
   "source": [
    "### Indexação\n",
    "\n",
    "#### Acessando como uma lista"
   ]
  },
  {
   "cell_type": "code",
   "execution_count": 22,
   "metadata": {},
   "outputs": [
    {
     "data": {
      "text/html": [
       "<table>\n",
       "<thead><tr><th scope=col>sepal_length</th></tr></thead>\n",
       "<tbody>\n",
       "\t<tr><td>5.1</td></tr>\n",
       "\t<tr><td>4.9</td></tr>\n",
       "\t<tr><td>4.7</td></tr>\n",
       "\t<tr><td>4.6</td></tr>\n",
       "\t<tr><td>5.0</td></tr>\n",
       "\t<tr><td>5.4</td></tr>\n",
       "</tbody>\n",
       "</table>\n"
      ],
      "text/latex": [
       "\\begin{tabular}{r|l}\n",
       " sepal\\_length\\\\\n",
       "\\hline\n",
       "\t 5.1\\\\\n",
       "\t 4.9\\\\\n",
       "\t 4.7\\\\\n",
       "\t 4.6\\\\\n",
       "\t 5.0\\\\\n",
       "\t 5.4\\\\\n",
       "\\end{tabular}\n"
      ],
      "text/markdown": [
       "\n",
       "sepal_length | \n",
       "|---|---|---|---|---|---|\n",
       "| 5.1 | \n",
       "| 4.9 | \n",
       "| 4.7 | \n",
       "| 4.6 | \n",
       "| 5.0 | \n",
       "| 5.4 | \n",
       "\n",
       "\n"
      ],
      "text/plain": [
       "  sepal_length\n",
       "1 5.1         \n",
       "2 4.9         \n",
       "3 4.7         \n",
       "4 4.6         \n",
       "5 5.0         \n",
       "6 5.4         "
      ]
     },
     "metadata": {},
     "output_type": "display_data"
    },
    {
     "data": {
      "text/html": [
       "'list'"
      ],
      "text/latex": [
       "'list'"
      ],
      "text/markdown": [
       "'list'"
      ],
      "text/plain": [
       "[1] \"list\""
      ]
     },
     "metadata": {},
     "output_type": "display_data"
    }
   ],
   "source": [
    "head(df[\"sepal_length\"])\n",
    "typeof(df[\"sepal_length\"])"
   ]
  },
  {
   "cell_type": "code",
   "execution_count": 23,
   "metadata": {},
   "outputs": [
    {
     "data": {
      "text/html": [
       "<ol class=list-inline>\n",
       "\t<li>5.1</li>\n",
       "\t<li>4.9</li>\n",
       "\t<li>4.7</li>\n",
       "\t<li>4.6</li>\n",
       "\t<li>5</li>\n",
       "\t<li>5.4</li>\n",
       "\t<li>4.6</li>\n",
       "\t<li>5</li>\n",
       "\t<li>4.4</li>\n",
       "\t<li>4.9</li>\n",
       "\t<li>5.4</li>\n",
       "\t<li>4.8</li>\n",
       "\t<li>4.8</li>\n",
       "\t<li>4.3</li>\n",
       "\t<li>5.8</li>\n",
       "\t<li>5.7</li>\n",
       "\t<li>5.4</li>\n",
       "\t<li>5.1</li>\n",
       "\t<li>5.7</li>\n",
       "\t<li>5.1</li>\n",
       "\t<li>5.4</li>\n",
       "\t<li>5.1</li>\n",
       "\t<li>4.6</li>\n",
       "\t<li>5.1</li>\n",
       "\t<li>4.8</li>\n",
       "\t<li>5</li>\n",
       "\t<li>5</li>\n",
       "\t<li>5.2</li>\n",
       "\t<li>5.2</li>\n",
       "\t<li>4.7</li>\n",
       "\t<li>4.8</li>\n",
       "\t<li>5.4</li>\n",
       "\t<li>5.2</li>\n",
       "\t<li>5.5</li>\n",
       "\t<li>4.9</li>\n",
       "\t<li>5</li>\n",
       "\t<li>5.5</li>\n",
       "\t<li>4.9</li>\n",
       "\t<li>4.4</li>\n",
       "\t<li>5.1</li>\n",
       "\t<li>5</li>\n",
       "\t<li>4.5</li>\n",
       "\t<li>4.4</li>\n",
       "\t<li>5</li>\n",
       "\t<li>5.1</li>\n",
       "\t<li>4.8</li>\n",
       "\t<li>5.1</li>\n",
       "\t<li>4.6</li>\n",
       "\t<li>5.3</li>\n",
       "\t<li>5</li>\n",
       "\t<li>7</li>\n",
       "\t<li>6.4</li>\n",
       "\t<li>6.9</li>\n",
       "\t<li>5.5</li>\n",
       "\t<li>6.5</li>\n",
       "\t<li>5.7</li>\n",
       "\t<li>6.3</li>\n",
       "\t<li>4.9</li>\n",
       "\t<li>6.6</li>\n",
       "\t<li>5.2</li>\n",
       "\t<li>5</li>\n",
       "\t<li>5.9</li>\n",
       "\t<li>6</li>\n",
       "\t<li>6.1</li>\n",
       "\t<li>5.6</li>\n",
       "\t<li>6.7</li>\n",
       "\t<li>5.6</li>\n",
       "\t<li>5.8</li>\n",
       "\t<li>6.2</li>\n",
       "\t<li>5.6</li>\n",
       "\t<li>5.9</li>\n",
       "\t<li>6.1</li>\n",
       "\t<li>6.3</li>\n",
       "\t<li>6.1</li>\n",
       "\t<li>6.4</li>\n",
       "\t<li>6.6</li>\n",
       "\t<li>6.8</li>\n",
       "\t<li>6.7</li>\n",
       "\t<li>6</li>\n",
       "\t<li>5.7</li>\n",
       "\t<li>5.5</li>\n",
       "\t<li>5.5</li>\n",
       "\t<li>5.8</li>\n",
       "\t<li>6</li>\n",
       "\t<li>5.4</li>\n",
       "\t<li>6</li>\n",
       "\t<li>6.7</li>\n",
       "\t<li>6.3</li>\n",
       "\t<li>5.6</li>\n",
       "\t<li>5.5</li>\n",
       "\t<li>5.5</li>\n",
       "\t<li>6.1</li>\n",
       "\t<li>5.8</li>\n",
       "\t<li>5</li>\n",
       "\t<li>5.6</li>\n",
       "\t<li>5.7</li>\n",
       "\t<li>5.7</li>\n",
       "\t<li>6.2</li>\n",
       "\t<li>5.1</li>\n",
       "\t<li>5.7</li>\n",
       "\t<li>6.3</li>\n",
       "\t<li>5.8</li>\n",
       "\t<li>7.1</li>\n",
       "\t<li>6.3</li>\n",
       "\t<li>6.5</li>\n",
       "\t<li>7.6</li>\n",
       "\t<li>4.9</li>\n",
       "\t<li>7.3</li>\n",
       "\t<li>6.7</li>\n",
       "\t<li>7.2</li>\n",
       "\t<li>6.5</li>\n",
       "\t<li>6.4</li>\n",
       "\t<li>6.8</li>\n",
       "\t<li>5.7</li>\n",
       "\t<li>5.8</li>\n",
       "\t<li>6.4</li>\n",
       "\t<li>6.5</li>\n",
       "\t<li>7.7</li>\n",
       "\t<li>7.7</li>\n",
       "\t<li>6</li>\n",
       "\t<li>6.9</li>\n",
       "\t<li>5.6</li>\n",
       "\t<li>7.7</li>\n",
       "\t<li>6.3</li>\n",
       "\t<li>6.7</li>\n",
       "\t<li>7.2</li>\n",
       "\t<li>6.2</li>\n",
       "\t<li>6.1</li>\n",
       "\t<li>6.4</li>\n",
       "\t<li>7.2</li>\n",
       "\t<li>7.4</li>\n",
       "\t<li>7.9</li>\n",
       "\t<li>6.4</li>\n",
       "\t<li>6.3</li>\n",
       "\t<li>6.1</li>\n",
       "\t<li>7.7</li>\n",
       "\t<li>6.3</li>\n",
       "\t<li>6.4</li>\n",
       "\t<li>6</li>\n",
       "\t<li>6.9</li>\n",
       "\t<li>6.7</li>\n",
       "\t<li>6.9</li>\n",
       "\t<li>5.8</li>\n",
       "\t<li>6.8</li>\n",
       "\t<li>6.7</li>\n",
       "\t<li>6.7</li>\n",
       "\t<li>6.3</li>\n",
       "\t<li>6.5</li>\n",
       "\t<li>6.2</li>\n",
       "\t<li>5.9</li>\n",
       "</ol>\n"
      ],
      "text/latex": [
       "\\begin{enumerate*}\n",
       "\\item 5.1\n",
       "\\item 4.9\n",
       "\\item 4.7\n",
       "\\item 4.6\n",
       "\\item 5\n",
       "\\item 5.4\n",
       "\\item 4.6\n",
       "\\item 5\n",
       "\\item 4.4\n",
       "\\item 4.9\n",
       "\\item 5.4\n",
       "\\item 4.8\n",
       "\\item 4.8\n",
       "\\item 4.3\n",
       "\\item 5.8\n",
       "\\item 5.7\n",
       "\\item 5.4\n",
       "\\item 5.1\n",
       "\\item 5.7\n",
       "\\item 5.1\n",
       "\\item 5.4\n",
       "\\item 5.1\n",
       "\\item 4.6\n",
       "\\item 5.1\n",
       "\\item 4.8\n",
       "\\item 5\n",
       "\\item 5\n",
       "\\item 5.2\n",
       "\\item 5.2\n",
       "\\item 4.7\n",
       "\\item 4.8\n",
       "\\item 5.4\n",
       "\\item 5.2\n",
       "\\item 5.5\n",
       "\\item 4.9\n",
       "\\item 5\n",
       "\\item 5.5\n",
       "\\item 4.9\n",
       "\\item 4.4\n",
       "\\item 5.1\n",
       "\\item 5\n",
       "\\item 4.5\n",
       "\\item 4.4\n",
       "\\item 5\n",
       "\\item 5.1\n",
       "\\item 4.8\n",
       "\\item 5.1\n",
       "\\item 4.6\n",
       "\\item 5.3\n",
       "\\item 5\n",
       "\\item 7\n",
       "\\item 6.4\n",
       "\\item 6.9\n",
       "\\item 5.5\n",
       "\\item 6.5\n",
       "\\item 5.7\n",
       "\\item 6.3\n",
       "\\item 4.9\n",
       "\\item 6.6\n",
       "\\item 5.2\n",
       "\\item 5\n",
       "\\item 5.9\n",
       "\\item 6\n",
       "\\item 6.1\n",
       "\\item 5.6\n",
       "\\item 6.7\n",
       "\\item 5.6\n",
       "\\item 5.8\n",
       "\\item 6.2\n",
       "\\item 5.6\n",
       "\\item 5.9\n",
       "\\item 6.1\n",
       "\\item 6.3\n",
       "\\item 6.1\n",
       "\\item 6.4\n",
       "\\item 6.6\n",
       "\\item 6.8\n",
       "\\item 6.7\n",
       "\\item 6\n",
       "\\item 5.7\n",
       "\\item 5.5\n",
       "\\item 5.5\n",
       "\\item 5.8\n",
       "\\item 6\n",
       "\\item 5.4\n",
       "\\item 6\n",
       "\\item 6.7\n",
       "\\item 6.3\n",
       "\\item 5.6\n",
       "\\item 5.5\n",
       "\\item 5.5\n",
       "\\item 6.1\n",
       "\\item 5.8\n",
       "\\item 5\n",
       "\\item 5.6\n",
       "\\item 5.7\n",
       "\\item 5.7\n",
       "\\item 6.2\n",
       "\\item 5.1\n",
       "\\item 5.7\n",
       "\\item 6.3\n",
       "\\item 5.8\n",
       "\\item 7.1\n",
       "\\item 6.3\n",
       "\\item 6.5\n",
       "\\item 7.6\n",
       "\\item 4.9\n",
       "\\item 7.3\n",
       "\\item 6.7\n",
       "\\item 7.2\n",
       "\\item 6.5\n",
       "\\item 6.4\n",
       "\\item 6.8\n",
       "\\item 5.7\n",
       "\\item 5.8\n",
       "\\item 6.4\n",
       "\\item 6.5\n",
       "\\item 7.7\n",
       "\\item 7.7\n",
       "\\item 6\n",
       "\\item 6.9\n",
       "\\item 5.6\n",
       "\\item 7.7\n",
       "\\item 6.3\n",
       "\\item 6.7\n",
       "\\item 7.2\n",
       "\\item 6.2\n",
       "\\item 6.1\n",
       "\\item 6.4\n",
       "\\item 7.2\n",
       "\\item 7.4\n",
       "\\item 7.9\n",
       "\\item 6.4\n",
       "\\item 6.3\n",
       "\\item 6.1\n",
       "\\item 7.7\n",
       "\\item 6.3\n",
       "\\item 6.4\n",
       "\\item 6\n",
       "\\item 6.9\n",
       "\\item 6.7\n",
       "\\item 6.9\n",
       "\\item 5.8\n",
       "\\item 6.8\n",
       "\\item 6.7\n",
       "\\item 6.7\n",
       "\\item 6.3\n",
       "\\item 6.5\n",
       "\\item 6.2\n",
       "\\item 5.9\n",
       "\\end{enumerate*}\n"
      ],
      "text/markdown": [
       "1. 5.1\n",
       "2. 4.9\n",
       "3. 4.7\n",
       "4. 4.6\n",
       "5. 5\n",
       "6. 5.4\n",
       "7. 4.6\n",
       "8. 5\n",
       "9. 4.4\n",
       "10. 4.9\n",
       "11. 5.4\n",
       "12. 4.8\n",
       "13. 4.8\n",
       "14. 4.3\n",
       "15. 5.8\n",
       "16. 5.7\n",
       "17. 5.4\n",
       "18. 5.1\n",
       "19. 5.7\n",
       "20. 5.1\n",
       "21. 5.4\n",
       "22. 5.1\n",
       "23. 4.6\n",
       "24. 5.1\n",
       "25. 4.8\n",
       "26. 5\n",
       "27. 5\n",
       "28. 5.2\n",
       "29. 5.2\n",
       "30. 4.7\n",
       "31. 4.8\n",
       "32. 5.4\n",
       "33. 5.2\n",
       "34. 5.5\n",
       "35. 4.9\n",
       "36. 5\n",
       "37. 5.5\n",
       "38. 4.9\n",
       "39. 4.4\n",
       "40. 5.1\n",
       "41. 5\n",
       "42. 4.5\n",
       "43. 4.4\n",
       "44. 5\n",
       "45. 5.1\n",
       "46. 4.8\n",
       "47. 5.1\n",
       "48. 4.6\n",
       "49. 5.3\n",
       "50. 5\n",
       "51. 7\n",
       "52. 6.4\n",
       "53. 6.9\n",
       "54. 5.5\n",
       "55. 6.5\n",
       "56. 5.7\n",
       "57. 6.3\n",
       "58. 4.9\n",
       "59. 6.6\n",
       "60. 5.2\n",
       "61. 5\n",
       "62. 5.9\n",
       "63. 6\n",
       "64. 6.1\n",
       "65. 5.6\n",
       "66. 6.7\n",
       "67. 5.6\n",
       "68. 5.8\n",
       "69. 6.2\n",
       "70. 5.6\n",
       "71. 5.9\n",
       "72. 6.1\n",
       "73. 6.3\n",
       "74. 6.1\n",
       "75. 6.4\n",
       "76. 6.6\n",
       "77. 6.8\n",
       "78. 6.7\n",
       "79. 6\n",
       "80. 5.7\n",
       "81. 5.5\n",
       "82. 5.5\n",
       "83. 5.8\n",
       "84. 6\n",
       "85. 5.4\n",
       "86. 6\n",
       "87. 6.7\n",
       "88. 6.3\n",
       "89. 5.6\n",
       "90. 5.5\n",
       "91. 5.5\n",
       "92. 6.1\n",
       "93. 5.8\n",
       "94. 5\n",
       "95. 5.6\n",
       "96. 5.7\n",
       "97. 5.7\n",
       "98. 6.2\n",
       "99. 5.1\n",
       "100. 5.7\n",
       "101. 6.3\n",
       "102. 5.8\n",
       "103. 7.1\n",
       "104. 6.3\n",
       "105. 6.5\n",
       "106. 7.6\n",
       "107. 4.9\n",
       "108. 7.3\n",
       "109. 6.7\n",
       "110. 7.2\n",
       "111. 6.5\n",
       "112. 6.4\n",
       "113. 6.8\n",
       "114. 5.7\n",
       "115. 5.8\n",
       "116. 6.4\n",
       "117. 6.5\n",
       "118. 7.7\n",
       "119. 7.7\n",
       "120. 6\n",
       "121. 6.9\n",
       "122. 5.6\n",
       "123. 7.7\n",
       "124. 6.3\n",
       "125. 6.7\n",
       "126. 7.2\n",
       "127. 6.2\n",
       "128. 6.1\n",
       "129. 6.4\n",
       "130. 7.2\n",
       "131. 7.4\n",
       "132. 7.9\n",
       "133. 6.4\n",
       "134. 6.3\n",
       "135. 6.1\n",
       "136. 7.7\n",
       "137. 6.3\n",
       "138. 6.4\n",
       "139. 6\n",
       "140. 6.9\n",
       "141. 6.7\n",
       "142. 6.9\n",
       "143. 5.8\n",
       "144. 6.8\n",
       "145. 6.7\n",
       "146. 6.7\n",
       "147. 6.3\n",
       "148. 6.5\n",
       "149. 6.2\n",
       "150. 5.9\n",
       "\n",
       "\n"
      ],
      "text/plain": [
       "  [1] 5.1 4.9 4.7 4.6 5.0 5.4 4.6 5.0 4.4 4.9 5.4 4.8 4.8 4.3 5.8 5.7 5.4 5.1\n",
       " [19] 5.7 5.1 5.4 5.1 4.6 5.1 4.8 5.0 5.0 5.2 5.2 4.7 4.8 5.4 5.2 5.5 4.9 5.0\n",
       " [37] 5.5 4.9 4.4 5.1 5.0 4.5 4.4 5.0 5.1 4.8 5.1 4.6 5.3 5.0 7.0 6.4 6.9 5.5\n",
       " [55] 6.5 5.7 6.3 4.9 6.6 5.2 5.0 5.9 6.0 6.1 5.6 6.7 5.6 5.8 6.2 5.6 5.9 6.1\n",
       " [73] 6.3 6.1 6.4 6.6 6.8 6.7 6.0 5.7 5.5 5.5 5.8 6.0 5.4 6.0 6.7 6.3 5.6 5.5\n",
       " [91] 5.5 6.1 5.8 5.0 5.6 5.7 5.7 6.2 5.1 5.7 6.3 5.8 7.1 6.3 6.5 7.6 4.9 7.3\n",
       "[109] 6.7 7.2 6.5 6.4 6.8 5.7 5.8 6.4 6.5 7.7 7.7 6.0 6.9 5.6 7.7 6.3 6.7 7.2\n",
       "[127] 6.2 6.1 6.4 7.2 7.4 7.9 6.4 6.3 6.1 7.7 6.3 6.4 6.0 6.9 6.7 6.9 5.8 6.8\n",
       "[145] 6.7 6.7 6.3 6.5 6.2 5.9"
      ]
     },
     "metadata": {},
     "output_type": "display_data"
    },
    {
     "data": {
      "text/html": [
       "'double'"
      ],
      "text/latex": [
       "'double'"
      ],
      "text/markdown": [
       "'double'"
      ],
      "text/plain": [
       "[1] \"double\""
      ]
     },
     "metadata": {},
     "output_type": "display_data"
    }
   ],
   "source": [
    "df$sepal_length\n",
    "typeof(df$sepal_length)"
   ]
  },
  {
   "cell_type": "code",
   "execution_count": 24,
   "metadata": {},
   "outputs": [
    {
     "data": {
      "text/html": [
       "<ol class=list-inline>\n",
       "\t<li>5.1</li>\n",
       "\t<li>4.9</li>\n",
       "\t<li>4.7</li>\n",
       "\t<li>4.6</li>\n",
       "\t<li>5</li>\n",
       "\t<li>5.4</li>\n",
       "\t<li>4.6</li>\n",
       "\t<li>5</li>\n",
       "\t<li>4.4</li>\n",
       "\t<li>4.9</li>\n",
       "\t<li>5.4</li>\n",
       "\t<li>4.8</li>\n",
       "\t<li>4.8</li>\n",
       "\t<li>4.3</li>\n",
       "\t<li>5.8</li>\n",
       "\t<li>5.7</li>\n",
       "\t<li>5.4</li>\n",
       "\t<li>5.1</li>\n",
       "\t<li>5.7</li>\n",
       "\t<li>5.1</li>\n",
       "\t<li>5.4</li>\n",
       "\t<li>5.1</li>\n",
       "\t<li>4.6</li>\n",
       "\t<li>5.1</li>\n",
       "\t<li>4.8</li>\n",
       "\t<li>5</li>\n",
       "\t<li>5</li>\n",
       "\t<li>5.2</li>\n",
       "\t<li>5.2</li>\n",
       "\t<li>4.7</li>\n",
       "\t<li>4.8</li>\n",
       "\t<li>5.4</li>\n",
       "\t<li>5.2</li>\n",
       "\t<li>5.5</li>\n",
       "\t<li>4.9</li>\n",
       "\t<li>5</li>\n",
       "\t<li>5.5</li>\n",
       "\t<li>4.9</li>\n",
       "\t<li>4.4</li>\n",
       "\t<li>5.1</li>\n",
       "\t<li>5</li>\n",
       "\t<li>4.5</li>\n",
       "\t<li>4.4</li>\n",
       "\t<li>5</li>\n",
       "\t<li>5.1</li>\n",
       "\t<li>4.8</li>\n",
       "\t<li>5.1</li>\n",
       "\t<li>4.6</li>\n",
       "\t<li>5.3</li>\n",
       "\t<li>5</li>\n",
       "\t<li>7</li>\n",
       "\t<li>6.4</li>\n",
       "\t<li>6.9</li>\n",
       "\t<li>5.5</li>\n",
       "\t<li>6.5</li>\n",
       "\t<li>5.7</li>\n",
       "\t<li>6.3</li>\n",
       "\t<li>4.9</li>\n",
       "\t<li>6.6</li>\n",
       "\t<li>5.2</li>\n",
       "\t<li>5</li>\n",
       "\t<li>5.9</li>\n",
       "\t<li>6</li>\n",
       "\t<li>6.1</li>\n",
       "\t<li>5.6</li>\n",
       "\t<li>6.7</li>\n",
       "\t<li>5.6</li>\n",
       "\t<li>5.8</li>\n",
       "\t<li>6.2</li>\n",
       "\t<li>5.6</li>\n",
       "\t<li>5.9</li>\n",
       "\t<li>6.1</li>\n",
       "\t<li>6.3</li>\n",
       "\t<li>6.1</li>\n",
       "\t<li>6.4</li>\n",
       "\t<li>6.6</li>\n",
       "\t<li>6.8</li>\n",
       "\t<li>6.7</li>\n",
       "\t<li>6</li>\n",
       "\t<li>5.7</li>\n",
       "\t<li>5.5</li>\n",
       "\t<li>5.5</li>\n",
       "\t<li>5.8</li>\n",
       "\t<li>6</li>\n",
       "\t<li>5.4</li>\n",
       "\t<li>6</li>\n",
       "\t<li>6.7</li>\n",
       "\t<li>6.3</li>\n",
       "\t<li>5.6</li>\n",
       "\t<li>5.5</li>\n",
       "\t<li>5.5</li>\n",
       "\t<li>6.1</li>\n",
       "\t<li>5.8</li>\n",
       "\t<li>5</li>\n",
       "\t<li>5.6</li>\n",
       "\t<li>5.7</li>\n",
       "\t<li>5.7</li>\n",
       "\t<li>6.2</li>\n",
       "\t<li>5.1</li>\n",
       "\t<li>5.7</li>\n",
       "\t<li>6.3</li>\n",
       "\t<li>5.8</li>\n",
       "\t<li>7.1</li>\n",
       "\t<li>6.3</li>\n",
       "\t<li>6.5</li>\n",
       "\t<li>7.6</li>\n",
       "\t<li>4.9</li>\n",
       "\t<li>7.3</li>\n",
       "\t<li>6.7</li>\n",
       "\t<li>7.2</li>\n",
       "\t<li>6.5</li>\n",
       "\t<li>6.4</li>\n",
       "\t<li>6.8</li>\n",
       "\t<li>5.7</li>\n",
       "\t<li>5.8</li>\n",
       "\t<li>6.4</li>\n",
       "\t<li>6.5</li>\n",
       "\t<li>7.7</li>\n",
       "\t<li>7.7</li>\n",
       "\t<li>6</li>\n",
       "\t<li>6.9</li>\n",
       "\t<li>5.6</li>\n",
       "\t<li>7.7</li>\n",
       "\t<li>6.3</li>\n",
       "\t<li>6.7</li>\n",
       "\t<li>7.2</li>\n",
       "\t<li>6.2</li>\n",
       "\t<li>6.1</li>\n",
       "\t<li>6.4</li>\n",
       "\t<li>7.2</li>\n",
       "\t<li>7.4</li>\n",
       "\t<li>7.9</li>\n",
       "\t<li>6.4</li>\n",
       "\t<li>6.3</li>\n",
       "\t<li>6.1</li>\n",
       "\t<li>7.7</li>\n",
       "\t<li>6.3</li>\n",
       "\t<li>6.4</li>\n",
       "\t<li>6</li>\n",
       "\t<li>6.9</li>\n",
       "\t<li>6.7</li>\n",
       "\t<li>6.9</li>\n",
       "\t<li>5.8</li>\n",
       "\t<li>6.8</li>\n",
       "\t<li>6.7</li>\n",
       "\t<li>6.7</li>\n",
       "\t<li>6.3</li>\n",
       "\t<li>6.5</li>\n",
       "\t<li>6.2</li>\n",
       "\t<li>5.9</li>\n",
       "</ol>\n"
      ],
      "text/latex": [
       "\\begin{enumerate*}\n",
       "\\item 5.1\n",
       "\\item 4.9\n",
       "\\item 4.7\n",
       "\\item 4.6\n",
       "\\item 5\n",
       "\\item 5.4\n",
       "\\item 4.6\n",
       "\\item 5\n",
       "\\item 4.4\n",
       "\\item 4.9\n",
       "\\item 5.4\n",
       "\\item 4.8\n",
       "\\item 4.8\n",
       "\\item 4.3\n",
       "\\item 5.8\n",
       "\\item 5.7\n",
       "\\item 5.4\n",
       "\\item 5.1\n",
       "\\item 5.7\n",
       "\\item 5.1\n",
       "\\item 5.4\n",
       "\\item 5.1\n",
       "\\item 4.6\n",
       "\\item 5.1\n",
       "\\item 4.8\n",
       "\\item 5\n",
       "\\item 5\n",
       "\\item 5.2\n",
       "\\item 5.2\n",
       "\\item 4.7\n",
       "\\item 4.8\n",
       "\\item 5.4\n",
       "\\item 5.2\n",
       "\\item 5.5\n",
       "\\item 4.9\n",
       "\\item 5\n",
       "\\item 5.5\n",
       "\\item 4.9\n",
       "\\item 4.4\n",
       "\\item 5.1\n",
       "\\item 5\n",
       "\\item 4.5\n",
       "\\item 4.4\n",
       "\\item 5\n",
       "\\item 5.1\n",
       "\\item 4.8\n",
       "\\item 5.1\n",
       "\\item 4.6\n",
       "\\item 5.3\n",
       "\\item 5\n",
       "\\item 7\n",
       "\\item 6.4\n",
       "\\item 6.9\n",
       "\\item 5.5\n",
       "\\item 6.5\n",
       "\\item 5.7\n",
       "\\item 6.3\n",
       "\\item 4.9\n",
       "\\item 6.6\n",
       "\\item 5.2\n",
       "\\item 5\n",
       "\\item 5.9\n",
       "\\item 6\n",
       "\\item 6.1\n",
       "\\item 5.6\n",
       "\\item 6.7\n",
       "\\item 5.6\n",
       "\\item 5.8\n",
       "\\item 6.2\n",
       "\\item 5.6\n",
       "\\item 5.9\n",
       "\\item 6.1\n",
       "\\item 6.3\n",
       "\\item 6.1\n",
       "\\item 6.4\n",
       "\\item 6.6\n",
       "\\item 6.8\n",
       "\\item 6.7\n",
       "\\item 6\n",
       "\\item 5.7\n",
       "\\item 5.5\n",
       "\\item 5.5\n",
       "\\item 5.8\n",
       "\\item 6\n",
       "\\item 5.4\n",
       "\\item 6\n",
       "\\item 6.7\n",
       "\\item 6.3\n",
       "\\item 5.6\n",
       "\\item 5.5\n",
       "\\item 5.5\n",
       "\\item 6.1\n",
       "\\item 5.8\n",
       "\\item 5\n",
       "\\item 5.6\n",
       "\\item 5.7\n",
       "\\item 5.7\n",
       "\\item 6.2\n",
       "\\item 5.1\n",
       "\\item 5.7\n",
       "\\item 6.3\n",
       "\\item 5.8\n",
       "\\item 7.1\n",
       "\\item 6.3\n",
       "\\item 6.5\n",
       "\\item 7.6\n",
       "\\item 4.9\n",
       "\\item 7.3\n",
       "\\item 6.7\n",
       "\\item 7.2\n",
       "\\item 6.5\n",
       "\\item 6.4\n",
       "\\item 6.8\n",
       "\\item 5.7\n",
       "\\item 5.8\n",
       "\\item 6.4\n",
       "\\item 6.5\n",
       "\\item 7.7\n",
       "\\item 7.7\n",
       "\\item 6\n",
       "\\item 6.9\n",
       "\\item 5.6\n",
       "\\item 7.7\n",
       "\\item 6.3\n",
       "\\item 6.7\n",
       "\\item 7.2\n",
       "\\item 6.2\n",
       "\\item 6.1\n",
       "\\item 6.4\n",
       "\\item 7.2\n",
       "\\item 7.4\n",
       "\\item 7.9\n",
       "\\item 6.4\n",
       "\\item 6.3\n",
       "\\item 6.1\n",
       "\\item 7.7\n",
       "\\item 6.3\n",
       "\\item 6.4\n",
       "\\item 6\n",
       "\\item 6.9\n",
       "\\item 6.7\n",
       "\\item 6.9\n",
       "\\item 5.8\n",
       "\\item 6.8\n",
       "\\item 6.7\n",
       "\\item 6.7\n",
       "\\item 6.3\n",
       "\\item 6.5\n",
       "\\item 6.2\n",
       "\\item 5.9\n",
       "\\end{enumerate*}\n"
      ],
      "text/markdown": [
       "1. 5.1\n",
       "2. 4.9\n",
       "3. 4.7\n",
       "4. 4.6\n",
       "5. 5\n",
       "6. 5.4\n",
       "7. 4.6\n",
       "8. 5\n",
       "9. 4.4\n",
       "10. 4.9\n",
       "11. 5.4\n",
       "12. 4.8\n",
       "13. 4.8\n",
       "14. 4.3\n",
       "15. 5.8\n",
       "16. 5.7\n",
       "17. 5.4\n",
       "18. 5.1\n",
       "19. 5.7\n",
       "20. 5.1\n",
       "21. 5.4\n",
       "22. 5.1\n",
       "23. 4.6\n",
       "24. 5.1\n",
       "25. 4.8\n",
       "26. 5\n",
       "27. 5\n",
       "28. 5.2\n",
       "29. 5.2\n",
       "30. 4.7\n",
       "31. 4.8\n",
       "32. 5.4\n",
       "33. 5.2\n",
       "34. 5.5\n",
       "35. 4.9\n",
       "36. 5\n",
       "37. 5.5\n",
       "38. 4.9\n",
       "39. 4.4\n",
       "40. 5.1\n",
       "41. 5\n",
       "42. 4.5\n",
       "43. 4.4\n",
       "44. 5\n",
       "45. 5.1\n",
       "46. 4.8\n",
       "47. 5.1\n",
       "48. 4.6\n",
       "49. 5.3\n",
       "50. 5\n",
       "51. 7\n",
       "52. 6.4\n",
       "53. 6.9\n",
       "54. 5.5\n",
       "55. 6.5\n",
       "56. 5.7\n",
       "57. 6.3\n",
       "58. 4.9\n",
       "59. 6.6\n",
       "60. 5.2\n",
       "61. 5\n",
       "62. 5.9\n",
       "63. 6\n",
       "64. 6.1\n",
       "65. 5.6\n",
       "66. 6.7\n",
       "67. 5.6\n",
       "68. 5.8\n",
       "69. 6.2\n",
       "70. 5.6\n",
       "71. 5.9\n",
       "72. 6.1\n",
       "73. 6.3\n",
       "74. 6.1\n",
       "75. 6.4\n",
       "76. 6.6\n",
       "77. 6.8\n",
       "78. 6.7\n",
       "79. 6\n",
       "80. 5.7\n",
       "81. 5.5\n",
       "82. 5.5\n",
       "83. 5.8\n",
       "84. 6\n",
       "85. 5.4\n",
       "86. 6\n",
       "87. 6.7\n",
       "88. 6.3\n",
       "89. 5.6\n",
       "90. 5.5\n",
       "91. 5.5\n",
       "92. 6.1\n",
       "93. 5.8\n",
       "94. 5\n",
       "95. 5.6\n",
       "96. 5.7\n",
       "97. 5.7\n",
       "98. 6.2\n",
       "99. 5.1\n",
       "100. 5.7\n",
       "101. 6.3\n",
       "102. 5.8\n",
       "103. 7.1\n",
       "104. 6.3\n",
       "105. 6.5\n",
       "106. 7.6\n",
       "107. 4.9\n",
       "108. 7.3\n",
       "109. 6.7\n",
       "110. 7.2\n",
       "111. 6.5\n",
       "112. 6.4\n",
       "113. 6.8\n",
       "114. 5.7\n",
       "115. 5.8\n",
       "116. 6.4\n",
       "117. 6.5\n",
       "118. 7.7\n",
       "119. 7.7\n",
       "120. 6\n",
       "121. 6.9\n",
       "122. 5.6\n",
       "123. 7.7\n",
       "124. 6.3\n",
       "125. 6.7\n",
       "126. 7.2\n",
       "127. 6.2\n",
       "128. 6.1\n",
       "129. 6.4\n",
       "130. 7.2\n",
       "131. 7.4\n",
       "132. 7.9\n",
       "133. 6.4\n",
       "134. 6.3\n",
       "135. 6.1\n",
       "136. 7.7\n",
       "137. 6.3\n",
       "138. 6.4\n",
       "139. 6\n",
       "140. 6.9\n",
       "141. 6.7\n",
       "142. 6.9\n",
       "143. 5.8\n",
       "144. 6.8\n",
       "145. 6.7\n",
       "146. 6.7\n",
       "147. 6.3\n",
       "148. 6.5\n",
       "149. 6.2\n",
       "150. 5.9\n",
       "\n",
       "\n"
      ],
      "text/plain": [
       "  [1] 5.1 4.9 4.7 4.6 5.0 5.4 4.6 5.0 4.4 4.9 5.4 4.8 4.8 4.3 5.8 5.7 5.4 5.1\n",
       " [19] 5.7 5.1 5.4 5.1 4.6 5.1 4.8 5.0 5.0 5.2 5.2 4.7 4.8 5.4 5.2 5.5 4.9 5.0\n",
       " [37] 5.5 4.9 4.4 5.1 5.0 4.5 4.4 5.0 5.1 4.8 5.1 4.6 5.3 5.0 7.0 6.4 6.9 5.5\n",
       " [55] 6.5 5.7 6.3 4.9 6.6 5.2 5.0 5.9 6.0 6.1 5.6 6.7 5.6 5.8 6.2 5.6 5.9 6.1\n",
       " [73] 6.3 6.1 6.4 6.6 6.8 6.7 6.0 5.7 5.5 5.5 5.8 6.0 5.4 6.0 6.7 6.3 5.6 5.5\n",
       " [91] 5.5 6.1 5.8 5.0 5.6 5.7 5.7 6.2 5.1 5.7 6.3 5.8 7.1 6.3 6.5 7.6 4.9 7.3\n",
       "[109] 6.7 7.2 6.5 6.4 6.8 5.7 5.8 6.4 6.5 7.7 7.7 6.0 6.9 5.6 7.7 6.3 6.7 7.2\n",
       "[127] 6.2 6.1 6.4 7.2 7.4 7.9 6.4 6.3 6.1 7.7 6.3 6.4 6.0 6.9 6.7 6.9 5.8 6.8\n",
       "[145] 6.7 6.7 6.3 6.5 6.2 5.9"
      ]
     },
     "metadata": {},
     "output_type": "display_data"
    },
    {
     "data": {
      "text/html": [
       "'double'"
      ],
      "text/latex": [
       "'double'"
      ],
      "text/markdown": [
       "'double'"
      ],
      "text/plain": [
       "[1] \"double\""
      ]
     },
     "metadata": {},
     "output_type": "display_data"
    }
   ],
   "source": [
    "df[[\"sepal_length\"]]\n",
    "typeof(df[[\"sepal_length\"]])"
   ]
  },
  {
   "cell_type": "markdown",
   "metadata": {},
   "source": [
    "#### Acessando como uma Matriz"
   ]
  },
  {
   "cell_type": "code",
   "execution_count": 25,
   "metadata": {},
   "outputs": [
    {
     "data": {
      "text/html": [
       "<table>\n",
       "<thead><tr><th scope=col>sepal_length</th><th scope=col>sepal_width</th><th scope=col>petal_length</th><th scope=col>sepal_width</th><th scope=col>species</th></tr></thead>\n",
       "<tbody>\n",
       "\t<tr><td>5.1        </td><td>3.5        </td><td>1.4        </td><td>0.2        </td><td>Iris-setosa</td></tr>\n",
       "\t<tr><td>4.9        </td><td>3.0        </td><td>1.4        </td><td>0.2        </td><td>Iris-setosa</td></tr>\n",
       "\t<tr><td>4.7        </td><td>3.2        </td><td>1.3        </td><td>0.2        </td><td>Iris-setosa</td></tr>\n",
       "\t<tr><td>4.6        </td><td>3.1        </td><td>1.5        </td><td>0.2        </td><td>Iris-setosa</td></tr>\n",
       "\t<tr><td>5.0        </td><td>3.6        </td><td>1.4        </td><td>0.2        </td><td>Iris-setosa</td></tr>\n",
       "\t<tr><td>5.4        </td><td>3.9        </td><td>1.7        </td><td>0.4        </td><td>Iris-setosa</td></tr>\n",
       "\t<tr><td>4.6        </td><td>3.4        </td><td>1.4        </td><td>0.3        </td><td>Iris-setosa</td></tr>\n",
       "\t<tr><td>5.0        </td><td>3.4        </td><td>1.5        </td><td>0.2        </td><td>Iris-setosa</td></tr>\n",
       "\t<tr><td>4.4        </td><td>2.9        </td><td>1.4        </td><td>0.2        </td><td>Iris-setosa</td></tr>\n",
       "\t<tr><td>4.9        </td><td>3.1        </td><td>1.5        </td><td>0.1        </td><td>Iris-setosa</td></tr>\n",
       "</tbody>\n",
       "</table>\n"
      ],
      "text/latex": [
       "\\begin{tabular}{r|lllll}\n",
       " sepal\\_length & sepal\\_width & petal\\_length & sepal\\_width & species\\\\\n",
       "\\hline\n",
       "\t 5.1         & 3.5         & 1.4         & 0.2         & Iris-setosa\\\\\n",
       "\t 4.9         & 3.0         & 1.4         & 0.2         & Iris-setosa\\\\\n",
       "\t 4.7         & 3.2         & 1.3         & 0.2         & Iris-setosa\\\\\n",
       "\t 4.6         & 3.1         & 1.5         & 0.2         & Iris-setosa\\\\\n",
       "\t 5.0         & 3.6         & 1.4         & 0.2         & Iris-setosa\\\\\n",
       "\t 5.4         & 3.9         & 1.7         & 0.4         & Iris-setosa\\\\\n",
       "\t 4.6         & 3.4         & 1.4         & 0.3         & Iris-setosa\\\\\n",
       "\t 5.0         & 3.4         & 1.5         & 0.2         & Iris-setosa\\\\\n",
       "\t 4.4         & 2.9         & 1.4         & 0.2         & Iris-setosa\\\\\n",
       "\t 4.9         & 3.1         & 1.5         & 0.1         & Iris-setosa\\\\\n",
       "\\end{tabular}\n"
      ],
      "text/markdown": [
       "\n",
       "sepal_length | sepal_width | petal_length | sepal_width | species | \n",
       "|---|---|---|---|---|---|---|---|---|---|\n",
       "| 5.1         | 3.5         | 1.4         | 0.2         | Iris-setosa | \n",
       "| 4.9         | 3.0         | 1.4         | 0.2         | Iris-setosa | \n",
       "| 4.7         | 3.2         | 1.3         | 0.2         | Iris-setosa | \n",
       "| 4.6         | 3.1         | 1.5         | 0.2         | Iris-setosa | \n",
       "| 5.0         | 3.6         | 1.4         | 0.2         | Iris-setosa | \n",
       "| 5.4         | 3.9         | 1.7         | 0.4         | Iris-setosa | \n",
       "| 4.6         | 3.4         | 1.4         | 0.3         | Iris-setosa | \n",
       "| 5.0         | 3.4         | 1.5         | 0.2         | Iris-setosa | \n",
       "| 4.4         | 2.9         | 1.4         | 0.2         | Iris-setosa | \n",
       "| 4.9         | 3.1         | 1.5         | 0.1         | Iris-setosa | \n",
       "\n",
       "\n"
      ],
      "text/plain": [
       "   sepal_length sepal_width petal_length sepal_width species    \n",
       "1  5.1          3.5         1.4          0.2         Iris-setosa\n",
       "2  4.9          3.0         1.4          0.2         Iris-setosa\n",
       "3  4.7          3.2         1.3          0.2         Iris-setosa\n",
       "4  4.6          3.1         1.5          0.2         Iris-setosa\n",
       "5  5.0          3.6         1.4          0.2         Iris-setosa\n",
       "6  5.4          3.9         1.7          0.4         Iris-setosa\n",
       "7  4.6          3.4         1.4          0.3         Iris-setosa\n",
       "8  5.0          3.4         1.5          0.2         Iris-setosa\n",
       "9  4.4          2.9         1.4          0.2         Iris-setosa\n",
       "10 4.9          3.1         1.5          0.1         Iris-setosa"
      ]
     },
     "metadata": {},
     "output_type": "display_data"
    }
   ],
   "source": [
    "head(df, n = 10)"
   ]
  },
  {
   "cell_type": "code",
   "execution_count": 26,
   "metadata": {},
   "outputs": [
    {
     "data": {
      "text/html": [
       "<table>\n",
       "<thead><tr><th scope=col>sepal_length</th><th scope=col>sepal_width</th><th scope=col>petal_length</th><th scope=col>sepal_width</th><th scope=col>species</th></tr></thead>\n",
       "<tbody>\n",
       "\t<tr><td>5.1        </td><td>3.5        </td><td>1.4        </td><td>0.2        </td><td>Iris-setosa</td></tr>\n",
       "\t<tr><td>4.9        </td><td>3.0        </td><td>1.4        </td><td>0.2        </td><td>Iris-setosa</td></tr>\n",
       "\t<tr><td>4.7        </td><td>3.2        </td><td>1.3        </td><td>0.2        </td><td>Iris-setosa</td></tr>\n",
       "\t<tr><td>4.6        </td><td>3.1        </td><td>1.5        </td><td>0.2        </td><td>Iris-setosa</td></tr>\n",
       "\t<tr><td>5.0        </td><td>3.6        </td><td>1.4        </td><td>0.2        </td><td>Iris-setosa</td></tr>\n",
       "</tbody>\n",
       "</table>\n"
      ],
      "text/latex": [
       "\\begin{tabular}{r|lllll}\n",
       " sepal\\_length & sepal\\_width & petal\\_length & sepal\\_width & species\\\\\n",
       "\\hline\n",
       "\t 5.1         & 3.5         & 1.4         & 0.2         & Iris-setosa\\\\\n",
       "\t 4.9         & 3.0         & 1.4         & 0.2         & Iris-setosa\\\\\n",
       "\t 4.7         & 3.2         & 1.3         & 0.2         & Iris-setosa\\\\\n",
       "\t 4.6         & 3.1         & 1.5         & 0.2         & Iris-setosa\\\\\n",
       "\t 5.0         & 3.6         & 1.4         & 0.2         & Iris-setosa\\\\\n",
       "\\end{tabular}\n"
      ],
      "text/markdown": [
       "\n",
       "sepal_length | sepal_width | petal_length | sepal_width | species | \n",
       "|---|---|---|---|---|\n",
       "| 5.1         | 3.5         | 1.4         | 0.2         | Iris-setosa | \n",
       "| 4.9         | 3.0         | 1.4         | 0.2         | Iris-setosa | \n",
       "| 4.7         | 3.2         | 1.3         | 0.2         | Iris-setosa | \n",
       "| 4.6         | 3.1         | 1.5         | 0.2         | Iris-setosa | \n",
       "| 5.0         | 3.6         | 1.4         | 0.2         | Iris-setosa | \n",
       "\n",
       "\n"
      ],
      "text/plain": [
       "  sepal_length sepal_width petal_length sepal_width species    \n",
       "1 5.1          3.5         1.4          0.2         Iris-setosa\n",
       "2 4.9          3.0         1.4          0.2         Iris-setosa\n",
       "3 4.7          3.2         1.3          0.2         Iris-setosa\n",
       "4 4.6          3.1         1.5          0.2         Iris-setosa\n",
       "5 5.0          3.6         1.4          0.2         Iris-setosa"
      ]
     },
     "metadata": {},
     "output_type": "display_data"
    }
   ],
   "source": [
    "df[1:5,]"
   ]
  },
  {
   "cell_type": "code",
   "execution_count": 27,
   "metadata": {},
   "outputs": [
    {
     "data": {
      "text/html": [
       "<table>\n",
       "<thead><tr><th></th><th scope=col>sepal_length</th><th scope=col>sepal_width</th><th scope=col>petal_length</th><th scope=col>sepal_width</th><th scope=col>species</th></tr></thead>\n",
       "<tbody>\n",
       "\t<tr><th scope=row>2</th><td>4.9            </td><td>3.0            </td><td>1.4            </td><td>0.2            </td><td>Iris-setosa    </td></tr>\n",
       "\t<tr><th scope=row>3</th><td>4.7            </td><td>3.2            </td><td>1.3            </td><td>0.2            </td><td>Iris-setosa    </td></tr>\n",
       "\t<tr><th scope=row>4</th><td>4.6            </td><td>3.1            </td><td>1.5            </td><td>0.2            </td><td>Iris-setosa    </td></tr>\n",
       "\t<tr><th scope=row>7</th><td>4.6            </td><td>3.4            </td><td>1.4            </td><td>0.3            </td><td>Iris-setosa    </td></tr>\n",
       "\t<tr><th scope=row>9</th><td>4.4            </td><td>2.9            </td><td>1.4            </td><td>0.2            </td><td>Iris-setosa    </td></tr>\n",
       "\t<tr><th scope=row>10</th><td>4.9            </td><td>3.1            </td><td>1.5            </td><td>0.1            </td><td>Iris-setosa    </td></tr>\n",
       "\t<tr><th scope=row>12</th><td>4.8            </td><td>3.4            </td><td>1.6            </td><td>0.2            </td><td>Iris-setosa    </td></tr>\n",
       "\t<tr><th scope=row>13</th><td>4.8            </td><td>3.0            </td><td>1.4            </td><td>0.1            </td><td>Iris-setosa    </td></tr>\n",
       "\t<tr><th scope=row>14</th><td>4.3            </td><td>3.0            </td><td>1.1            </td><td>0.1            </td><td>Iris-setosa    </td></tr>\n",
       "\t<tr><th scope=row>23</th><td>4.6            </td><td>3.6            </td><td>1.0            </td><td>0.2            </td><td>Iris-setosa    </td></tr>\n",
       "\t<tr><th scope=row>25</th><td>4.8            </td><td>3.4            </td><td>1.9            </td><td>0.2            </td><td>Iris-setosa    </td></tr>\n",
       "\t<tr><th scope=row>30</th><td>4.7            </td><td>3.2            </td><td>1.6            </td><td>0.2            </td><td>Iris-setosa    </td></tr>\n",
       "\t<tr><th scope=row>31</th><td>4.8            </td><td>3.1            </td><td>1.6            </td><td>0.2            </td><td>Iris-setosa    </td></tr>\n",
       "\t<tr><th scope=row>35</th><td>4.9            </td><td>3.1            </td><td>1.5            </td><td>0.1            </td><td>Iris-setosa    </td></tr>\n",
       "\t<tr><th scope=row>38</th><td>4.9            </td><td>3.1            </td><td>1.5            </td><td>0.1            </td><td>Iris-setosa    </td></tr>\n",
       "\t<tr><th scope=row>39</th><td>4.4            </td><td>3.0            </td><td>1.3            </td><td>0.2            </td><td>Iris-setosa    </td></tr>\n",
       "\t<tr><th scope=row>42</th><td>4.5            </td><td>2.3            </td><td>1.3            </td><td>0.3            </td><td>Iris-setosa    </td></tr>\n",
       "\t<tr><th scope=row>43</th><td>4.4            </td><td>3.2            </td><td>1.3            </td><td>0.2            </td><td>Iris-setosa    </td></tr>\n",
       "\t<tr><th scope=row>46</th><td>4.8            </td><td>3.0            </td><td>1.4            </td><td>0.3            </td><td>Iris-setosa    </td></tr>\n",
       "\t<tr><th scope=row>48</th><td>4.6            </td><td>3.2            </td><td>1.4            </td><td>0.2            </td><td>Iris-setosa    </td></tr>\n",
       "\t<tr><th scope=row>58</th><td>4.9            </td><td>2.4            </td><td>3.3            </td><td>1.0            </td><td>Iris-versicolor</td></tr>\n",
       "\t<tr><th scope=row>107</th><td>4.9            </td><td>2.5            </td><td>4.5            </td><td>1.7            </td><td>Iris-virginica </td></tr>\n",
       "</tbody>\n",
       "</table>\n"
      ],
      "text/latex": [
       "\\begin{tabular}{r|lllll}\n",
       "  & sepal\\_length & sepal\\_width & petal\\_length & sepal\\_width & species\\\\\n",
       "\\hline\n",
       "\t2 & 4.9             & 3.0             & 1.4             & 0.2             & Iris-setosa    \\\\\n",
       "\t3 & 4.7             & 3.2             & 1.3             & 0.2             & Iris-setosa    \\\\\n",
       "\t4 & 4.6             & 3.1             & 1.5             & 0.2             & Iris-setosa    \\\\\n",
       "\t7 & 4.6             & 3.4             & 1.4             & 0.3             & Iris-setosa    \\\\\n",
       "\t9 & 4.4             & 2.9             & 1.4             & 0.2             & Iris-setosa    \\\\\n",
       "\t10 & 4.9             & 3.1             & 1.5             & 0.1             & Iris-setosa    \\\\\n",
       "\t12 & 4.8             & 3.4             & 1.6             & 0.2             & Iris-setosa    \\\\\n",
       "\t13 & 4.8             & 3.0             & 1.4             & 0.1             & Iris-setosa    \\\\\n",
       "\t14 & 4.3             & 3.0             & 1.1             & 0.1             & Iris-setosa    \\\\\n",
       "\t23 & 4.6             & 3.6             & 1.0             & 0.2             & Iris-setosa    \\\\\n",
       "\t25 & 4.8             & 3.4             & 1.9             & 0.2             & Iris-setosa    \\\\\n",
       "\t30 & 4.7             & 3.2             & 1.6             & 0.2             & Iris-setosa    \\\\\n",
       "\t31 & 4.8             & 3.1             & 1.6             & 0.2             & Iris-setosa    \\\\\n",
       "\t35 & 4.9             & 3.1             & 1.5             & 0.1             & Iris-setosa    \\\\\n",
       "\t38 & 4.9             & 3.1             & 1.5             & 0.1             & Iris-setosa    \\\\\n",
       "\t39 & 4.4             & 3.0             & 1.3             & 0.2             & Iris-setosa    \\\\\n",
       "\t42 & 4.5             & 2.3             & 1.3             & 0.3             & Iris-setosa    \\\\\n",
       "\t43 & 4.4             & 3.2             & 1.3             & 0.2             & Iris-setosa    \\\\\n",
       "\t46 & 4.8             & 3.0             & 1.4             & 0.3             & Iris-setosa    \\\\\n",
       "\t48 & 4.6             & 3.2             & 1.4             & 0.2             & Iris-setosa    \\\\\n",
       "\t58 & 4.9             & 2.4             & 3.3             & 1.0             & Iris-versicolor\\\\\n",
       "\t107 & 4.9             & 2.5             & 4.5             & 1.7             & Iris-virginica \\\\\n",
       "\\end{tabular}\n"
      ],
      "text/markdown": [
       "\n",
       "| <!--/--> | sepal_length | sepal_width | petal_length | sepal_width | species | \n",
       "|---|---|---|---|---|---|---|---|---|---|---|---|---|---|---|---|---|---|---|---|---|---|\n",
       "| 2 | 4.9             | 3.0             | 1.4             | 0.2             | Iris-setosa     | \n",
       "| 3 | 4.7             | 3.2             | 1.3             | 0.2             | Iris-setosa     | \n",
       "| 4 | 4.6             | 3.1             | 1.5             | 0.2             | Iris-setosa     | \n",
       "| 7 | 4.6             | 3.4             | 1.4             | 0.3             | Iris-setosa     | \n",
       "| 9 | 4.4             | 2.9             | 1.4             | 0.2             | Iris-setosa     | \n",
       "| 10 | 4.9             | 3.1             | 1.5             | 0.1             | Iris-setosa     | \n",
       "| 12 | 4.8             | 3.4             | 1.6             | 0.2             | Iris-setosa     | \n",
       "| 13 | 4.8             | 3.0             | 1.4             | 0.1             | Iris-setosa     | \n",
       "| 14 | 4.3             | 3.0             | 1.1             | 0.1             | Iris-setosa     | \n",
       "| 23 | 4.6             | 3.6             | 1.0             | 0.2             | Iris-setosa     | \n",
       "| 25 | 4.8             | 3.4             | 1.9             | 0.2             | Iris-setosa     | \n",
       "| 30 | 4.7             | 3.2             | 1.6             | 0.2             | Iris-setosa     | \n",
       "| 31 | 4.8             | 3.1             | 1.6             | 0.2             | Iris-setosa     | \n",
       "| 35 | 4.9             | 3.1             | 1.5             | 0.1             | Iris-setosa     | \n",
       "| 38 | 4.9             | 3.1             | 1.5             | 0.1             | Iris-setosa     | \n",
       "| 39 | 4.4             | 3.0             | 1.3             | 0.2             | Iris-setosa     | \n",
       "| 42 | 4.5             | 2.3             | 1.3             | 0.3             | Iris-setosa     | \n",
       "| 43 | 4.4             | 3.2             | 1.3             | 0.2             | Iris-setosa     | \n",
       "| 46 | 4.8             | 3.0             | 1.4             | 0.3             | Iris-setosa     | \n",
       "| 48 | 4.6             | 3.2             | 1.4             | 0.2             | Iris-setosa     | \n",
       "| 58 | 4.9             | 2.4             | 3.3             | 1.0             | Iris-versicolor | \n",
       "| 107 | 4.9             | 2.5             | 4.5             | 1.7             | Iris-virginica  | \n",
       "\n",
       "\n"
      ],
      "text/plain": [
       "    sepal_length sepal_width petal_length sepal_width species        \n",
       "2   4.9          3.0         1.4          0.2         Iris-setosa    \n",
       "3   4.7          3.2         1.3          0.2         Iris-setosa    \n",
       "4   4.6          3.1         1.5          0.2         Iris-setosa    \n",
       "7   4.6          3.4         1.4          0.3         Iris-setosa    \n",
       "9   4.4          2.9         1.4          0.2         Iris-setosa    \n",
       "10  4.9          3.1         1.5          0.1         Iris-setosa    \n",
       "12  4.8          3.4         1.6          0.2         Iris-setosa    \n",
       "13  4.8          3.0         1.4          0.1         Iris-setosa    \n",
       "14  4.3          3.0         1.1          0.1         Iris-setosa    \n",
       "23  4.6          3.6         1.0          0.2         Iris-setosa    \n",
       "25  4.8          3.4         1.9          0.2         Iris-setosa    \n",
       "30  4.7          3.2         1.6          0.2         Iris-setosa    \n",
       "31  4.8          3.1         1.6          0.2         Iris-setosa    \n",
       "35  4.9          3.1         1.5          0.1         Iris-setosa    \n",
       "38  4.9          3.1         1.5          0.1         Iris-setosa    \n",
       "39  4.4          3.0         1.3          0.2         Iris-setosa    \n",
       "42  4.5          2.3         1.3          0.3         Iris-setosa    \n",
       "43  4.4          3.2         1.3          0.2         Iris-setosa    \n",
       "46  4.8          3.0         1.4          0.3         Iris-setosa    \n",
       "48  4.6          3.2         1.4          0.2         Iris-setosa    \n",
       "58  4.9          2.4         3.3          1.0         Iris-versicolor\n",
       "107 4.9          2.5         4.5          1.7         Iris-virginica "
      ]
     },
     "metadata": {},
     "output_type": "display_data"
    }
   ],
   "source": [
    "df[df$sepal_length < 5.0,]"
   ]
  },
  {
   "cell_type": "code",
   "execution_count": 28,
   "metadata": {},
   "outputs": [
    {
     "data": {
      "text/html": [
       "<ol class=list-inline>\n",
       "\t<li>3.5</li>\n",
       "\t<li>3</li>\n",
       "\t<li>3.2</li>\n",
       "</ol>\n"
      ],
      "text/latex": [
       "\\begin{enumerate*}\n",
       "\\item 3.5\n",
       "\\item 3\n",
       "\\item 3.2\n",
       "\\end{enumerate*}\n"
      ],
      "text/markdown": [
       "1. 3.5\n",
       "2. 3\n",
       "3. 3.2\n",
       "\n",
       "\n"
      ],
      "text/plain": [
       "[1] 3.5 3.0 3.2"
      ]
     },
     "metadata": {},
     "output_type": "display_data"
    }
   ],
   "source": [
    "df[1:3, 2]"
   ]
  },
  {
   "cell_type": "code",
   "execution_count": 29,
   "metadata": {},
   "outputs": [
    {
     "data": {
      "text/html": [
       "<table>\n",
       "<thead><tr><th scope=col>sepal_width</th></tr></thead>\n",
       "<tbody>\n",
       "\t<tr><td>3.5</td></tr>\n",
       "\t<tr><td>3.0</td></tr>\n",
       "\t<tr><td>3.2</td></tr>\n",
       "</tbody>\n",
       "</table>\n"
      ],
      "text/latex": [
       "\\begin{tabular}{r|l}\n",
       " sepal\\_width\\\\\n",
       "\\hline\n",
       "\t 3.5\\\\\n",
       "\t 3.0\\\\\n",
       "\t 3.2\\\\\n",
       "\\end{tabular}\n"
      ],
      "text/markdown": [
       "\n",
       "sepal_width | \n",
       "|---|---|---|\n",
       "| 3.5 | \n",
       "| 3.0 | \n",
       "| 3.2 | \n",
       "\n",
       "\n"
      ],
      "text/plain": [
       "  sepal_width\n",
       "1 3.5        \n",
       "2 3.0        \n",
       "3 3.2        "
      ]
     },
     "metadata": {},
     "output_type": "display_data"
    }
   ],
   "source": [
    "df[1:3, 2, drop = FALSE]"
   ]
  },
  {
   "cell_type": "code",
   "execution_count": 31,
   "metadata": {},
   "outputs": [
    {
     "data": {
      "text/html": [
       "<table>\n",
       "<thead><tr><th scope=col>sepal_length</th><th scope=col>sepal_width</th><th scope=col>petal_length</th><th scope=col>sepal_width</th><th scope=col>species</th></tr></thead>\n",
       "<tbody>\n",
       "\t<tr><td>5.1        </td><td>3.5        </td><td>2          </td><td>0.2        </td><td>Iris-setosa</td></tr>\n",
       "</tbody>\n",
       "</table>\n"
      ],
      "text/latex": [
       "\\begin{tabular}{r|lllll}\n",
       " sepal\\_length & sepal\\_width & petal\\_length & sepal\\_width & species\\\\\n",
       "\\hline\n",
       "\t 5.1         & 3.5         & 2           & 0.2         & Iris-setosa\\\\\n",
       "\\end{tabular}\n"
      ],
      "text/markdown": [
       "\n",
       "sepal_length | sepal_width | petal_length | sepal_width | species | \n",
       "|---|\n",
       "| 5.1         | 3.5         | 2           | 0.2         | Iris-setosa | \n",
       "\n",
       "\n"
      ],
      "text/plain": [
       "  sepal_length sepal_width petal_length sepal_width species    \n",
       "1 5.1          3.5         2            0.2         Iris-setosa"
      ]
     },
     "metadata": {},
     "output_type": "display_data"
    },
    {
     "data": {
      "text/html": [
       "<table>\n",
       "<thead><tr><th scope=col>sepal_length</th><th scope=col>sepal_width</th><th scope=col>petal_length</th><th scope=col>sepal_width</th><th scope=col>species</th></tr></thead>\n",
       "<tbody>\n",
       "\t<tr><td>5.1        </td><td>3.5        </td><td>2          </td><td>0.2        </td><td>Iris-setosa</td></tr>\n",
       "</tbody>\n",
       "</table>\n"
      ],
      "text/latex": [
       "\\begin{tabular}{r|lllll}\n",
       " sepal\\_length & sepal\\_width & petal\\_length & sepal\\_width & species\\\\\n",
       "\\hline\n",
       "\t 5.1         & 3.5         & 2           & 0.2         & Iris-setosa\\\\\n",
       "\\end{tabular}\n"
      ],
      "text/markdown": [
       "\n",
       "sepal_length | sepal_width | petal_length | sepal_width | species | \n",
       "|---|\n",
       "| 5.1         | 3.5         | 2           | 0.2         | Iris-setosa | \n",
       "\n",
       "\n"
      ],
      "text/plain": [
       "  sepal_length sepal_width petal_length sepal_width species    \n",
       "1 5.1          3.5         2            0.2         Iris-setosa"
      ]
     },
     "metadata": {},
     "output_type": "display_data"
    }
   ],
   "source": [
    "head(df, n = 1)\n",
    "df[1, \"petal_length\"] = 2\n",
    "head(df, n = 1)"
   ]
  },
  {
   "cell_type": "markdown",
   "metadata": {},
   "source": [
    "### Adicionando componentes"
   ]
  },
  {
   "cell_type": "code",
   "execution_count": 32,
   "metadata": {},
   "outputs": [
    {
     "data": {
      "text/html": [
       "<table>\n",
       "<thead><tr><th></th><th scope=col>sepal_length</th><th scope=col>sepal_width</th><th scope=col>petal_length</th><th scope=col>sepal_width</th><th scope=col>species</th></tr></thead>\n",
       "<tbody>\n",
       "\t<tr><th scope=row>2</th><td>5.06       </td><td>3.6        </td><td>1.0        </td><td>0.25       </td><td>Iris-setosa</td></tr>\n",
       "\t<tr><th scope=row>210</th><td>5.10       </td><td>3.5        </td><td>2.0        </td><td>0.20       </td><td>Iris-setosa</td></tr>\n",
       "\t<tr><th scope=row>3</th><td>4.90       </td><td>3.0        </td><td>1.4        </td><td>0.20       </td><td>Iris-setosa</td></tr>\n",
       "\t<tr><th scope=row>4</th><td>4.70       </td><td>3.2        </td><td>1.3        </td><td>0.20       </td><td>Iris-setosa</td></tr>\n",
       "\t<tr><th scope=row>5</th><td>4.60       </td><td>3.1        </td><td>1.5        </td><td>0.20       </td><td>Iris-setosa</td></tr>\n",
       "\t<tr><th scope=row>6</th><td>5.00       </td><td>3.6        </td><td>1.4        </td><td>0.20       </td><td>Iris-setosa</td></tr>\n",
       "\t<tr><th scope=row>7</th><td>5.40       </td><td>3.9        </td><td>1.7        </td><td>0.40       </td><td>Iris-setosa</td></tr>\n",
       "\t<tr><th scope=row>8</th><td>4.60       </td><td>3.4        </td><td>1.4        </td><td>0.30       </td><td>Iris-setosa</td></tr>\n",
       "\t<tr><th scope=row>9</th><td>5.00       </td><td>3.4        </td><td>1.5        </td><td>0.20       </td><td>Iris-setosa</td></tr>\n",
       "\t<tr><th scope=row>10</th><td>4.40       </td><td>2.9        </td><td>1.4        </td><td>0.20       </td><td>Iris-setosa</td></tr>\n",
       "\t<tr><th scope=row>11</th><td>4.90       </td><td>3.1        </td><td>1.5        </td><td>0.10       </td><td>Iris-setosa</td></tr>\n",
       "\t<tr><th scope=row>12</th><td>5.40       </td><td>3.7        </td><td>1.5        </td><td>0.20       </td><td>Iris-setosa</td></tr>\n",
       "\t<tr><th scope=row>13</th><td>4.80       </td><td>3.4        </td><td>1.6        </td><td>0.20       </td><td>Iris-setosa</td></tr>\n",
       "\t<tr><th scope=row>14</th><td>4.80       </td><td>3.0        </td><td>1.4        </td><td>0.10       </td><td>Iris-setosa</td></tr>\n",
       "\t<tr><th scope=row>15</th><td>4.30       </td><td>3.0        </td><td>1.1        </td><td>0.10       </td><td>Iris-setosa</td></tr>\n",
       "\t<tr><th scope=row>16</th><td>5.80       </td><td>4.0        </td><td>1.2        </td><td>0.20       </td><td>Iris-setosa</td></tr>\n",
       "\t<tr><th scope=row>17</th><td>5.70       </td><td>4.4        </td><td>1.5        </td><td>0.40       </td><td>Iris-setosa</td></tr>\n",
       "\t<tr><th scope=row>18</th><td>5.40       </td><td>3.9        </td><td>1.3        </td><td>0.40       </td><td>Iris-setosa</td></tr>\n",
       "\t<tr><th scope=row>19</th><td>5.10       </td><td>3.5        </td><td>1.4        </td><td>0.30       </td><td>Iris-setosa</td></tr>\n",
       "\t<tr><th scope=row>20</th><td>5.70       </td><td>3.8        </td><td>1.7        </td><td>0.30       </td><td>Iris-setosa</td></tr>\n",
       "\t<tr><th scope=row>21</th><td>5.10       </td><td>3.8        </td><td>1.5        </td><td>0.30       </td><td>Iris-setosa</td></tr>\n",
       "\t<tr><th scope=row>22</th><td>5.40       </td><td>3.4        </td><td>1.7        </td><td>0.20       </td><td>Iris-setosa</td></tr>\n",
       "\t<tr><th scope=row>23</th><td>5.10       </td><td>3.7        </td><td>1.5        </td><td>0.40       </td><td>Iris-setosa</td></tr>\n",
       "\t<tr><th scope=row>24</th><td>4.60       </td><td>3.6        </td><td>1.0        </td><td>0.20       </td><td>Iris-setosa</td></tr>\n",
       "\t<tr><th scope=row>25</th><td>5.10       </td><td>3.3        </td><td>1.7        </td><td>0.50       </td><td>Iris-setosa</td></tr>\n",
       "\t<tr><th scope=row>26</th><td>4.80       </td><td>3.4        </td><td>1.9        </td><td>0.20       </td><td>Iris-setosa</td></tr>\n",
       "\t<tr><th scope=row>27</th><td>5.00       </td><td>3.0        </td><td>1.6        </td><td>0.20       </td><td>Iris-setosa</td></tr>\n",
       "\t<tr><th scope=row>28</th><td>5.00       </td><td>3.4        </td><td>1.6        </td><td>0.40       </td><td>Iris-setosa</td></tr>\n",
       "\t<tr><th scope=row>29</th><td>5.20       </td><td>3.5        </td><td>1.5        </td><td>0.20       </td><td>Iris-setosa</td></tr>\n",
       "\t<tr><th scope=row>30</th><td>5.20       </td><td>3.4        </td><td>1.4        </td><td>0.20       </td><td>Iris-setosa</td></tr>\n",
       "\t<tr><th scope=row>⋮</th><td>⋮</td><td>⋮</td><td>⋮</td><td>⋮</td><td>⋮</td></tr>\n",
       "\t<tr><th scope=row>122</th><td>6.9           </td><td>3.2           </td><td>5.7           </td><td>2.3           </td><td>Iris-virginica</td></tr>\n",
       "\t<tr><th scope=row>123</th><td>5.6           </td><td>2.8           </td><td>4.9           </td><td>2.0           </td><td>Iris-virginica</td></tr>\n",
       "\t<tr><th scope=row>124</th><td>7.7           </td><td>2.8           </td><td>6.7           </td><td>2.0           </td><td>Iris-virginica</td></tr>\n",
       "\t<tr><th scope=row>125</th><td>6.3           </td><td>2.7           </td><td>4.9           </td><td>1.8           </td><td>Iris-virginica</td></tr>\n",
       "\t<tr><th scope=row>126</th><td>6.7           </td><td>3.3           </td><td>5.7           </td><td>2.1           </td><td>Iris-virginica</td></tr>\n",
       "\t<tr><th scope=row>127</th><td>7.2           </td><td>3.2           </td><td>6.0           </td><td>1.8           </td><td>Iris-virginica</td></tr>\n",
       "\t<tr><th scope=row>128</th><td>6.2           </td><td>2.8           </td><td>4.8           </td><td>1.8           </td><td>Iris-virginica</td></tr>\n",
       "\t<tr><th scope=row>129</th><td>6.1           </td><td>3.0           </td><td>4.9           </td><td>1.8           </td><td>Iris-virginica</td></tr>\n",
       "\t<tr><th scope=row>130</th><td>6.4           </td><td>2.8           </td><td>5.6           </td><td>2.1           </td><td>Iris-virginica</td></tr>\n",
       "\t<tr><th scope=row>131</th><td>7.2           </td><td>3.0           </td><td>5.8           </td><td>1.6           </td><td>Iris-virginica</td></tr>\n",
       "\t<tr><th scope=row>132</th><td>7.4           </td><td>2.8           </td><td>6.1           </td><td>1.9           </td><td>Iris-virginica</td></tr>\n",
       "\t<tr><th scope=row>133</th><td>7.9           </td><td>3.8           </td><td>6.4           </td><td>2.0           </td><td>Iris-virginica</td></tr>\n",
       "\t<tr><th scope=row>134</th><td>6.4           </td><td>2.8           </td><td>5.6           </td><td>2.2           </td><td>Iris-virginica</td></tr>\n",
       "\t<tr><th scope=row>135</th><td>6.3           </td><td>2.8           </td><td>5.1           </td><td>1.5           </td><td>Iris-virginica</td></tr>\n",
       "\t<tr><th scope=row>136</th><td>6.1           </td><td>2.6           </td><td>5.6           </td><td>1.4           </td><td>Iris-virginica</td></tr>\n",
       "\t<tr><th scope=row>137</th><td>7.7           </td><td>3.0           </td><td>6.1           </td><td>2.3           </td><td>Iris-virginica</td></tr>\n",
       "\t<tr><th scope=row>138</th><td>6.3           </td><td>3.4           </td><td>5.6           </td><td>2.4           </td><td>Iris-virginica</td></tr>\n",
       "\t<tr><th scope=row>139</th><td>6.4           </td><td>3.1           </td><td>5.5           </td><td>1.8           </td><td>Iris-virginica</td></tr>\n",
       "\t<tr><th scope=row>140</th><td>6.0           </td><td>3.0           </td><td>4.8           </td><td>1.8           </td><td>Iris-virginica</td></tr>\n",
       "\t<tr><th scope=row>141</th><td>6.9           </td><td>3.1           </td><td>5.4           </td><td>2.1           </td><td>Iris-virginica</td></tr>\n",
       "\t<tr><th scope=row>142</th><td>6.7           </td><td>3.1           </td><td>5.6           </td><td>2.4           </td><td>Iris-virginica</td></tr>\n",
       "\t<tr><th scope=row>143</th><td>6.9           </td><td>3.1           </td><td>5.1           </td><td>2.3           </td><td>Iris-virginica</td></tr>\n",
       "\t<tr><th scope=row>144</th><td>5.8           </td><td>2.7           </td><td>5.1           </td><td>1.9           </td><td>Iris-virginica</td></tr>\n",
       "\t<tr><th scope=row>145</th><td>6.8           </td><td>3.2           </td><td>5.9           </td><td>2.3           </td><td>Iris-virginica</td></tr>\n",
       "\t<tr><th scope=row>146</th><td>6.7           </td><td>3.3           </td><td>5.7           </td><td>2.5           </td><td>Iris-virginica</td></tr>\n",
       "\t<tr><th scope=row>147</th><td>6.7           </td><td>3.0           </td><td>5.2           </td><td>2.3           </td><td>Iris-virginica</td></tr>\n",
       "\t<tr><th scope=row>148</th><td>6.3           </td><td>2.5           </td><td>5.0           </td><td>1.9           </td><td>Iris-virginica</td></tr>\n",
       "\t<tr><th scope=row>149</th><td>6.5           </td><td>3.0           </td><td>5.2           </td><td>2.0           </td><td>Iris-virginica</td></tr>\n",
       "\t<tr><th scope=row>150</th><td>6.2           </td><td>3.4           </td><td>5.4           </td><td>2.3           </td><td>Iris-virginica</td></tr>\n",
       "\t<tr><th scope=row>151</th><td>5.9           </td><td>3.0           </td><td>5.1           </td><td>1.8           </td><td>Iris-virginica</td></tr>\n",
       "</tbody>\n",
       "</table>\n"
      ],
      "text/latex": [
       "\\begin{tabular}{r|lllll}\n",
       "  & sepal\\_length & sepal\\_width & petal\\_length & sepal\\_width & species\\\\\n",
       "\\hline\n",
       "\t2 & 5.06        & 3.6         & 1.0         & 0.25        & Iris-setosa\\\\\n",
       "\t210 & 5.10        & 3.5         & 2.0         & 0.20        & Iris-setosa\\\\\n",
       "\t3 & 4.90        & 3.0         & 1.4         & 0.20        & Iris-setosa\\\\\n",
       "\t4 & 4.70        & 3.2         & 1.3         & 0.20        & Iris-setosa\\\\\n",
       "\t5 & 4.60        & 3.1         & 1.5         & 0.20        & Iris-setosa\\\\\n",
       "\t6 & 5.00        & 3.6         & 1.4         & 0.20        & Iris-setosa\\\\\n",
       "\t7 & 5.40        & 3.9         & 1.7         & 0.40        & Iris-setosa\\\\\n",
       "\t8 & 4.60        & 3.4         & 1.4         & 0.30        & Iris-setosa\\\\\n",
       "\t9 & 5.00        & 3.4         & 1.5         & 0.20        & Iris-setosa\\\\\n",
       "\t10 & 4.40        & 2.9         & 1.4         & 0.20        & Iris-setosa\\\\\n",
       "\t11 & 4.90        & 3.1         & 1.5         & 0.10        & Iris-setosa\\\\\n",
       "\t12 & 5.40        & 3.7         & 1.5         & 0.20        & Iris-setosa\\\\\n",
       "\t13 & 4.80        & 3.4         & 1.6         & 0.20        & Iris-setosa\\\\\n",
       "\t14 & 4.80        & 3.0         & 1.4         & 0.10        & Iris-setosa\\\\\n",
       "\t15 & 4.30        & 3.0         & 1.1         & 0.10        & Iris-setosa\\\\\n",
       "\t16 & 5.80        & 4.0         & 1.2         & 0.20        & Iris-setosa\\\\\n",
       "\t17 & 5.70        & 4.4         & 1.5         & 0.40        & Iris-setosa\\\\\n",
       "\t18 & 5.40        & 3.9         & 1.3         & 0.40        & Iris-setosa\\\\\n",
       "\t19 & 5.10        & 3.5         & 1.4         & 0.30        & Iris-setosa\\\\\n",
       "\t20 & 5.70        & 3.8         & 1.7         & 0.30        & Iris-setosa\\\\\n",
       "\t21 & 5.10        & 3.8         & 1.5         & 0.30        & Iris-setosa\\\\\n",
       "\t22 & 5.40        & 3.4         & 1.7         & 0.20        & Iris-setosa\\\\\n",
       "\t23 & 5.10        & 3.7         & 1.5         & 0.40        & Iris-setosa\\\\\n",
       "\t24 & 4.60        & 3.6         & 1.0         & 0.20        & Iris-setosa\\\\\n",
       "\t25 & 5.10        & 3.3         & 1.7         & 0.50        & Iris-setosa\\\\\n",
       "\t26 & 4.80        & 3.4         & 1.9         & 0.20        & Iris-setosa\\\\\n",
       "\t27 & 5.00        & 3.0         & 1.6         & 0.20        & Iris-setosa\\\\\n",
       "\t28 & 5.00        & 3.4         & 1.6         & 0.40        & Iris-setosa\\\\\n",
       "\t29 & 5.20        & 3.5         & 1.5         & 0.20        & Iris-setosa\\\\\n",
       "\t30 & 5.20        & 3.4         & 1.4         & 0.20        & Iris-setosa\\\\\n",
       "\t⋮ & ⋮ & ⋮ & ⋮ & ⋮ & ⋮\\\\\n",
       "\t122 & 6.9            & 3.2            & 5.7            & 2.3            & Iris-virginica\\\\\n",
       "\t123 & 5.6            & 2.8            & 4.9            & 2.0            & Iris-virginica\\\\\n",
       "\t124 & 7.7            & 2.8            & 6.7            & 2.0            & Iris-virginica\\\\\n",
       "\t125 & 6.3            & 2.7            & 4.9            & 1.8            & Iris-virginica\\\\\n",
       "\t126 & 6.7            & 3.3            & 5.7            & 2.1            & Iris-virginica\\\\\n",
       "\t127 & 7.2            & 3.2            & 6.0            & 1.8            & Iris-virginica\\\\\n",
       "\t128 & 6.2            & 2.8            & 4.8            & 1.8            & Iris-virginica\\\\\n",
       "\t129 & 6.1            & 3.0            & 4.9            & 1.8            & Iris-virginica\\\\\n",
       "\t130 & 6.4            & 2.8            & 5.6            & 2.1            & Iris-virginica\\\\\n",
       "\t131 & 7.2            & 3.0            & 5.8            & 1.6            & Iris-virginica\\\\\n",
       "\t132 & 7.4            & 2.8            & 6.1            & 1.9            & Iris-virginica\\\\\n",
       "\t133 & 7.9            & 3.8            & 6.4            & 2.0            & Iris-virginica\\\\\n",
       "\t134 & 6.4            & 2.8            & 5.6            & 2.2            & Iris-virginica\\\\\n",
       "\t135 & 6.3            & 2.8            & 5.1            & 1.5            & Iris-virginica\\\\\n",
       "\t136 & 6.1            & 2.6            & 5.6            & 1.4            & Iris-virginica\\\\\n",
       "\t137 & 7.7            & 3.0            & 6.1            & 2.3            & Iris-virginica\\\\\n",
       "\t138 & 6.3            & 3.4            & 5.6            & 2.4            & Iris-virginica\\\\\n",
       "\t139 & 6.4            & 3.1            & 5.5            & 1.8            & Iris-virginica\\\\\n",
       "\t140 & 6.0            & 3.0            & 4.8            & 1.8            & Iris-virginica\\\\\n",
       "\t141 & 6.9            & 3.1            & 5.4            & 2.1            & Iris-virginica\\\\\n",
       "\t142 & 6.7            & 3.1            & 5.6            & 2.4            & Iris-virginica\\\\\n",
       "\t143 & 6.9            & 3.1            & 5.1            & 2.3            & Iris-virginica\\\\\n",
       "\t144 & 5.8            & 2.7            & 5.1            & 1.9            & Iris-virginica\\\\\n",
       "\t145 & 6.8            & 3.2            & 5.9            & 2.3            & Iris-virginica\\\\\n",
       "\t146 & 6.7            & 3.3            & 5.7            & 2.5            & Iris-virginica\\\\\n",
       "\t147 & 6.7            & 3.0            & 5.2            & 2.3            & Iris-virginica\\\\\n",
       "\t148 & 6.3            & 2.5            & 5.0            & 1.9            & Iris-virginica\\\\\n",
       "\t149 & 6.5            & 3.0            & 5.2            & 2.0            & Iris-virginica\\\\\n",
       "\t150 & 6.2            & 3.4            & 5.4            & 2.3            & Iris-virginica\\\\\n",
       "\t151 & 5.9            & 3.0            & 5.1            & 1.8            & Iris-virginica\\\\\n",
       "\\end{tabular}\n"
      ],
      "text/markdown": [
       "\n",
       "| <!--/--> | sepal_length | sepal_width | petal_length | sepal_width | species | \n",
       "|---|---|---|---|---|---|---|---|---|---|---|---|---|---|---|---|---|---|---|---|---|---|---|---|---|---|---|---|---|---|---|---|---|---|---|---|---|---|---|---|---|---|---|---|---|---|---|---|---|---|---|---|---|---|---|---|---|---|---|---|---|\n",
       "| 2 | 5.06        | 3.6         | 1.0         | 0.25        | Iris-setosa | \n",
       "| 210 | 5.10        | 3.5         | 2.0         | 0.20        | Iris-setosa | \n",
       "| 3 | 4.90        | 3.0         | 1.4         | 0.20        | Iris-setosa | \n",
       "| 4 | 4.70        | 3.2         | 1.3         | 0.20        | Iris-setosa | \n",
       "| 5 | 4.60        | 3.1         | 1.5         | 0.20        | Iris-setosa | \n",
       "| 6 | 5.00        | 3.6         | 1.4         | 0.20        | Iris-setosa | \n",
       "| 7 | 5.40        | 3.9         | 1.7         | 0.40        | Iris-setosa | \n",
       "| 8 | 4.60        | 3.4         | 1.4         | 0.30        | Iris-setosa | \n",
       "| 9 | 5.00        | 3.4         | 1.5         | 0.20        | Iris-setosa | \n",
       "| 10 | 4.40        | 2.9         | 1.4         | 0.20        | Iris-setosa | \n",
       "| 11 | 4.90        | 3.1         | 1.5         | 0.10        | Iris-setosa | \n",
       "| 12 | 5.40        | 3.7         | 1.5         | 0.20        | Iris-setosa | \n",
       "| 13 | 4.80        | 3.4         | 1.6         | 0.20        | Iris-setosa | \n",
       "| 14 | 4.80        | 3.0         | 1.4         | 0.10        | Iris-setosa | \n",
       "| 15 | 4.30        | 3.0         | 1.1         | 0.10        | Iris-setosa | \n",
       "| 16 | 5.80        | 4.0         | 1.2         | 0.20        | Iris-setosa | \n",
       "| 17 | 5.70        | 4.4         | 1.5         | 0.40        | Iris-setosa | \n",
       "| 18 | 5.40        | 3.9         | 1.3         | 0.40        | Iris-setosa | \n",
       "| 19 | 5.10        | 3.5         | 1.4         | 0.30        | Iris-setosa | \n",
       "| 20 | 5.70        | 3.8         | 1.7         | 0.30        | Iris-setosa | \n",
       "| 21 | 5.10        | 3.8         | 1.5         | 0.30        | Iris-setosa | \n",
       "| 22 | 5.40        | 3.4         | 1.7         | 0.20        | Iris-setosa | \n",
       "| 23 | 5.10        | 3.7         | 1.5         | 0.40        | Iris-setosa | \n",
       "| 24 | 4.60        | 3.6         | 1.0         | 0.20        | Iris-setosa | \n",
       "| 25 | 5.10        | 3.3         | 1.7         | 0.50        | Iris-setosa | \n",
       "| 26 | 4.80        | 3.4         | 1.9         | 0.20        | Iris-setosa | \n",
       "| 27 | 5.00        | 3.0         | 1.6         | 0.20        | Iris-setosa | \n",
       "| 28 | 5.00        | 3.4         | 1.6         | 0.40        | Iris-setosa | \n",
       "| 29 | 5.20        | 3.5         | 1.5         | 0.20        | Iris-setosa | \n",
       "| 30 | 5.20        | 3.4         | 1.4         | 0.20        | Iris-setosa | \n",
       "| ⋮ | ⋮ | ⋮ | ⋮ | ⋮ | ⋮ | \n",
       "| 122 | 6.9            | 3.2            | 5.7            | 2.3            | Iris-virginica | \n",
       "| 123 | 5.6            | 2.8            | 4.9            | 2.0            | Iris-virginica | \n",
       "| 124 | 7.7            | 2.8            | 6.7            | 2.0            | Iris-virginica | \n",
       "| 125 | 6.3            | 2.7            | 4.9            | 1.8            | Iris-virginica | \n",
       "| 126 | 6.7            | 3.3            | 5.7            | 2.1            | Iris-virginica | \n",
       "| 127 | 7.2            | 3.2            | 6.0            | 1.8            | Iris-virginica | \n",
       "| 128 | 6.2            | 2.8            | 4.8            | 1.8            | Iris-virginica | \n",
       "| 129 | 6.1            | 3.0            | 4.9            | 1.8            | Iris-virginica | \n",
       "| 130 | 6.4            | 2.8            | 5.6            | 2.1            | Iris-virginica | \n",
       "| 131 | 7.2            | 3.0            | 5.8            | 1.6            | Iris-virginica | \n",
       "| 132 | 7.4            | 2.8            | 6.1            | 1.9            | Iris-virginica | \n",
       "| 133 | 7.9            | 3.8            | 6.4            | 2.0            | Iris-virginica | \n",
       "| 134 | 6.4            | 2.8            | 5.6            | 2.2            | Iris-virginica | \n",
       "| 135 | 6.3            | 2.8            | 5.1            | 1.5            | Iris-virginica | \n",
       "| 136 | 6.1            | 2.6            | 5.6            | 1.4            | Iris-virginica | \n",
       "| 137 | 7.7            | 3.0            | 6.1            | 2.3            | Iris-virginica | \n",
       "| 138 | 6.3            | 3.4            | 5.6            | 2.4            | Iris-virginica | \n",
       "| 139 | 6.4            | 3.1            | 5.5            | 1.8            | Iris-virginica | \n",
       "| 140 | 6.0            | 3.0            | 4.8            | 1.8            | Iris-virginica | \n",
       "| 141 | 6.9            | 3.1            | 5.4            | 2.1            | Iris-virginica | \n",
       "| 142 | 6.7            | 3.1            | 5.6            | 2.4            | Iris-virginica | \n",
       "| 143 | 6.9            | 3.1            | 5.1            | 2.3            | Iris-virginica | \n",
       "| 144 | 5.8            | 2.7            | 5.1            | 1.9            | Iris-virginica | \n",
       "| 145 | 6.8            | 3.2            | 5.9            | 2.3            | Iris-virginica | \n",
       "| 146 | 6.7            | 3.3            | 5.7            | 2.5            | Iris-virginica | \n",
       "| 147 | 6.7            | 3.0            | 5.2            | 2.3            | Iris-virginica | \n",
       "| 148 | 6.3            | 2.5            | 5.0            | 1.9            | Iris-virginica | \n",
       "| 149 | 6.5            | 3.0            | 5.2            | 2.0            | Iris-virginica | \n",
       "| 150 | 6.2            | 3.4            | 5.4            | 2.3            | Iris-virginica | \n",
       "| 151 | 5.9            | 3.0            | 5.1            | 1.8            | Iris-virginica | \n",
       "\n",
       "\n"
      ],
      "text/plain": [
       "    sepal_length sepal_width petal_length sepal_width species       \n",
       "2   5.06         3.6         1.0          0.25        Iris-setosa   \n",
       "210 5.10         3.5         2.0          0.20        Iris-setosa   \n",
       "3   4.90         3.0         1.4          0.20        Iris-setosa   \n",
       "4   4.70         3.2         1.3          0.20        Iris-setosa   \n",
       "5   4.60         3.1         1.5          0.20        Iris-setosa   \n",
       "6   5.00         3.6         1.4          0.20        Iris-setosa   \n",
       "7   5.40         3.9         1.7          0.40        Iris-setosa   \n",
       "8   4.60         3.4         1.4          0.30        Iris-setosa   \n",
       "9   5.00         3.4         1.5          0.20        Iris-setosa   \n",
       "10  4.40         2.9         1.4          0.20        Iris-setosa   \n",
       "11  4.90         3.1         1.5          0.10        Iris-setosa   \n",
       "12  5.40         3.7         1.5          0.20        Iris-setosa   \n",
       "13  4.80         3.4         1.6          0.20        Iris-setosa   \n",
       "14  4.80         3.0         1.4          0.10        Iris-setosa   \n",
       "15  4.30         3.0         1.1          0.10        Iris-setosa   \n",
       "16  5.80         4.0         1.2          0.20        Iris-setosa   \n",
       "17  5.70         4.4         1.5          0.40        Iris-setosa   \n",
       "18  5.40         3.9         1.3          0.40        Iris-setosa   \n",
       "19  5.10         3.5         1.4          0.30        Iris-setosa   \n",
       "20  5.70         3.8         1.7          0.30        Iris-setosa   \n",
       "21  5.10         3.8         1.5          0.30        Iris-setosa   \n",
       "22  5.40         3.4         1.7          0.20        Iris-setosa   \n",
       "23  5.10         3.7         1.5          0.40        Iris-setosa   \n",
       "24  4.60         3.6         1.0          0.20        Iris-setosa   \n",
       "25  5.10         3.3         1.7          0.50        Iris-setosa   \n",
       "26  4.80         3.4         1.9          0.20        Iris-setosa   \n",
       "27  5.00         3.0         1.6          0.20        Iris-setosa   \n",
       "28  5.00         3.4         1.6          0.40        Iris-setosa   \n",
       "29  5.20         3.5         1.5          0.20        Iris-setosa   \n",
       "30  5.20         3.4         1.4          0.20        Iris-setosa   \n",
       "⋮   ⋮            ⋮           ⋮            ⋮           ⋮             \n",
       "122 6.9          3.2         5.7          2.3         Iris-virginica\n",
       "123 5.6          2.8         4.9          2.0         Iris-virginica\n",
       "124 7.7          2.8         6.7          2.0         Iris-virginica\n",
       "125 6.3          2.7         4.9          1.8         Iris-virginica\n",
       "126 6.7          3.3         5.7          2.1         Iris-virginica\n",
       "127 7.2          3.2         6.0          1.8         Iris-virginica\n",
       "128 6.2          2.8         4.8          1.8         Iris-virginica\n",
       "129 6.1          3.0         4.9          1.8         Iris-virginica\n",
       "130 6.4          2.8         5.6          2.1         Iris-virginica\n",
       "131 7.2          3.0         5.8          1.6         Iris-virginica\n",
       "132 7.4          2.8         6.1          1.9         Iris-virginica\n",
       "133 7.9          3.8         6.4          2.0         Iris-virginica\n",
       "134 6.4          2.8         5.6          2.2         Iris-virginica\n",
       "135 6.3          2.8         5.1          1.5         Iris-virginica\n",
       "136 6.1          2.6         5.6          1.4         Iris-virginica\n",
       "137 7.7          3.0         6.1          2.3         Iris-virginica\n",
       "138 6.3          3.4         5.6          2.4         Iris-virginica\n",
       "139 6.4          3.1         5.5          1.8         Iris-virginica\n",
       "140 6.0          3.0         4.8          1.8         Iris-virginica\n",
       "141 6.9          3.1         5.4          2.1         Iris-virginica\n",
       "142 6.7          3.1         5.6          2.4         Iris-virginica\n",
       "143 6.9          3.1         5.1          2.3         Iris-virginica\n",
       "144 5.8          2.7         5.1          1.9         Iris-virginica\n",
       "145 6.8          3.2         5.9          2.3         Iris-virginica\n",
       "146 6.7          3.3         5.7          2.5         Iris-virginica\n",
       "147 6.7          3.0         5.2          2.3         Iris-virginica\n",
       "148 6.3          2.5         5.0          1.9         Iris-virginica\n",
       "149 6.5          3.0         5.2          2.0         Iris-virginica\n",
       "150 6.2          3.4         5.4          2.3         Iris-virginica\n",
       "151 5.9          3.0         5.1          1.8         Iris-virginica"
      ]
     },
     "metadata": {},
     "output_type": "display_data"
    },
    {
     "data": {
      "text/html": [
       "<table>\n",
       "<thead><tr><th scope=col>sepal_length</th><th scope=col>sepal_width</th><th scope=col>petal_length</th><th scope=col>sepal_width</th><th scope=col>species</th></tr></thead>\n",
       "<tbody>\n",
       "\t<tr><td>5.1        </td><td>3.5        </td><td>2.0        </td><td>0.2        </td><td>Iris-setosa</td></tr>\n",
       "\t<tr><td>4.9        </td><td>3.0        </td><td>1.4        </td><td>0.2        </td><td>Iris-setosa</td></tr>\n",
       "\t<tr><td>4.7        </td><td>3.2        </td><td>1.3        </td><td>0.2        </td><td>Iris-setosa</td></tr>\n",
       "\t<tr><td>4.6        </td><td>3.1        </td><td>1.5        </td><td>0.2        </td><td>Iris-setosa</td></tr>\n",
       "\t<tr><td>5.0        </td><td>3.6        </td><td>1.4        </td><td>0.2        </td><td>Iris-setosa</td></tr>\n",
       "\t<tr><td>5.4        </td><td>3.9        </td><td>1.7        </td><td>0.4        </td><td>Iris-setosa</td></tr>\n",
       "</tbody>\n",
       "</table>\n"
      ],
      "text/latex": [
       "\\begin{tabular}{r|lllll}\n",
       " sepal\\_length & sepal\\_width & petal\\_length & sepal\\_width & species\\\\\n",
       "\\hline\n",
       "\t 5.1         & 3.5         & 2.0         & 0.2         & Iris-setosa\\\\\n",
       "\t 4.9         & 3.0         & 1.4         & 0.2         & Iris-setosa\\\\\n",
       "\t 4.7         & 3.2         & 1.3         & 0.2         & Iris-setosa\\\\\n",
       "\t 4.6         & 3.1         & 1.5         & 0.2         & Iris-setosa\\\\\n",
       "\t 5.0         & 3.6         & 1.4         & 0.2         & Iris-setosa\\\\\n",
       "\t 5.4         & 3.9         & 1.7         & 0.4         & Iris-setosa\\\\\n",
       "\\end{tabular}\n"
      ],
      "text/markdown": [
       "\n",
       "sepal_length | sepal_width | petal_length | sepal_width | species | \n",
       "|---|---|---|---|---|---|\n",
       "| 5.1         | 3.5         | 2.0         | 0.2         | Iris-setosa | \n",
       "| 4.9         | 3.0         | 1.4         | 0.2         | Iris-setosa | \n",
       "| 4.7         | 3.2         | 1.3         | 0.2         | Iris-setosa | \n",
       "| 4.6         | 3.1         | 1.5         | 0.2         | Iris-setosa | \n",
       "| 5.0         | 3.6         | 1.4         | 0.2         | Iris-setosa | \n",
       "| 5.4         | 3.9         | 1.7         | 0.4         | Iris-setosa | \n",
       "\n",
       "\n"
      ],
      "text/plain": [
       "  sepal_length sepal_width petal_length sepal_width species    \n",
       "1 5.1          3.5         2.0          0.2         Iris-setosa\n",
       "2 4.9          3.0         1.4          0.2         Iris-setosa\n",
       "3 4.7          3.2         1.3          0.2         Iris-setosa\n",
       "4 4.6          3.1         1.5          0.2         Iris-setosa\n",
       "5 5.0          3.6         1.4          0.2         Iris-setosa\n",
       "6 5.4          3.9         1.7          0.4         Iris-setosa"
      ]
     },
     "metadata": {},
     "output_type": "display_data"
    }
   ],
   "source": [
    "rbind(list(5.06, 3.6, 1.0, 0.25, \"Iris-setosa\"),df)\n",
    "head(df)"
   ]
  },
  {
   "cell_type": "code",
   "execution_count": 33,
   "metadata": {},
   "outputs": [
    {
     "data": {
      "text/html": [
       "<table>\n",
       "<thead><tr><th scope=col>sepal_length</th><th scope=col>sepal_width</th><th scope=col>petal_length</th><th scope=col>sepal_width</th><th scope=col>species</th><th scope=col>novo</th></tr></thead>\n",
       "<tbody>\n",
       "\t<tr><td>5.1        </td><td>3.5        </td><td>2.0        </td><td>0.2        </td><td>Iris-setosa</td><td>a          </td></tr>\n",
       "\t<tr><td>4.9        </td><td>3.0        </td><td>1.4        </td><td>0.2        </td><td>Iris-setosa</td><td>a          </td></tr>\n",
       "\t<tr><td>4.7        </td><td>3.2        </td><td>1.3        </td><td>0.2        </td><td>Iris-setosa</td><td>a          </td></tr>\n",
       "\t<tr><td>4.6        </td><td>3.1        </td><td>1.5        </td><td>0.2        </td><td>Iris-setosa</td><td>a          </td></tr>\n",
       "\t<tr><td>5.0        </td><td>3.6        </td><td>1.4        </td><td>0.2        </td><td>Iris-setosa</td><td>a          </td></tr>\n",
       "\t<tr><td>5.4        </td><td>3.9        </td><td>1.7        </td><td>0.4        </td><td>Iris-setosa</td><td>a          </td></tr>\n",
       "</tbody>\n",
       "</table>\n"
      ],
      "text/latex": [
       "\\begin{tabular}{r|llllll}\n",
       " sepal\\_length & sepal\\_width & petal\\_length & sepal\\_width & species & novo\\\\\n",
       "\\hline\n",
       "\t 5.1         & 3.5         & 2.0         & 0.2         & Iris-setosa & a          \\\\\n",
       "\t 4.9         & 3.0         & 1.4         & 0.2         & Iris-setosa & a          \\\\\n",
       "\t 4.7         & 3.2         & 1.3         & 0.2         & Iris-setosa & a          \\\\\n",
       "\t 4.6         & 3.1         & 1.5         & 0.2         & Iris-setosa & a          \\\\\n",
       "\t 5.0         & 3.6         & 1.4         & 0.2         & Iris-setosa & a          \\\\\n",
       "\t 5.4         & 3.9         & 1.7         & 0.4         & Iris-setosa & a          \\\\\n",
       "\\end{tabular}\n"
      ],
      "text/markdown": [
       "\n",
       "sepal_length | sepal_width | petal_length | sepal_width | species | novo | \n",
       "|---|---|---|---|---|---|\n",
       "| 5.1         | 3.5         | 2.0         | 0.2         | Iris-setosa | a           | \n",
       "| 4.9         | 3.0         | 1.4         | 0.2         | Iris-setosa | a           | \n",
       "| 4.7         | 3.2         | 1.3         | 0.2         | Iris-setosa | a           | \n",
       "| 4.6         | 3.1         | 1.5         | 0.2         | Iris-setosa | a           | \n",
       "| 5.0         | 3.6         | 1.4         | 0.2         | Iris-setosa | a           | \n",
       "| 5.4         | 3.9         | 1.7         | 0.4         | Iris-setosa | a           | \n",
       "\n",
       "\n"
      ],
      "text/plain": [
       "  sepal_length sepal_width petal_length sepal_width species     novo\n",
       "1 5.1          3.5         2.0          0.2         Iris-setosa a   \n",
       "2 4.9          3.0         1.4          0.2         Iris-setosa a   \n",
       "3 4.7          3.2         1.3          0.2         Iris-setosa a   \n",
       "4 4.6          3.1         1.5          0.2         Iris-setosa a   \n",
       "5 5.0          3.6         1.4          0.2         Iris-setosa a   \n",
       "6 5.4          3.9         1.7          0.4         Iris-setosa a   "
      ]
     },
     "metadata": {},
     "output_type": "display_data"
    }
   ],
   "source": [
    "df$novo <- \"a\"\n",
    "head(df)"
   ]
  },
  {
   "cell_type": "markdown",
   "metadata": {},
   "source": [
    "#### Removendo componetentes"
   ]
  },
  {
   "cell_type": "code",
   "execution_count": 34,
   "metadata": {},
   "outputs": [
    {
     "data": {
      "text/html": [
       "<table>\n",
       "<thead><tr><th></th><th scope=col>sepal_length</th><th scope=col>sepal_width</th><th scope=col>petal_length</th><th scope=col>sepal_width</th><th scope=col>species</th></tr></thead>\n",
       "<tbody>\n",
       "\t<tr><th scope=row>145</th><td>6.7           </td><td>3.3           </td><td>5.7           </td><td>2.5           </td><td>Iris-virginica</td></tr>\n",
       "\t<tr><th scope=row>146</th><td>6.7           </td><td>3.0           </td><td>5.2           </td><td>2.3           </td><td>Iris-virginica</td></tr>\n",
       "\t<tr><th scope=row>147</th><td>6.3           </td><td>2.5           </td><td>5.0           </td><td>1.9           </td><td>Iris-virginica</td></tr>\n",
       "\t<tr><th scope=row>148</th><td>6.5           </td><td>3.0           </td><td>5.2           </td><td>2.0           </td><td>Iris-virginica</td></tr>\n",
       "\t<tr><th scope=row>149</th><td>6.2           </td><td>3.4           </td><td>5.4           </td><td>2.3           </td><td>Iris-virginica</td></tr>\n",
       "\t<tr><th scope=row>150</th><td>5.9           </td><td>3.0           </td><td>5.1           </td><td>1.8           </td><td>Iris-virginica</td></tr>\n",
       "</tbody>\n",
       "</table>\n"
      ],
      "text/latex": [
       "\\begin{tabular}{r|lllll}\n",
       "  & sepal\\_length & sepal\\_width & petal\\_length & sepal\\_width & species\\\\\n",
       "\\hline\n",
       "\t145 & 6.7            & 3.3            & 5.7            & 2.5            & Iris-virginica\\\\\n",
       "\t146 & 6.7            & 3.0            & 5.2            & 2.3            & Iris-virginica\\\\\n",
       "\t147 & 6.3            & 2.5            & 5.0            & 1.9            & Iris-virginica\\\\\n",
       "\t148 & 6.5            & 3.0            & 5.2            & 2.0            & Iris-virginica\\\\\n",
       "\t149 & 6.2            & 3.4            & 5.4            & 2.3            & Iris-virginica\\\\\n",
       "\t150 & 5.9            & 3.0            & 5.1            & 1.8            & Iris-virginica\\\\\n",
       "\\end{tabular}\n"
      ],
      "text/markdown": [
       "\n",
       "| <!--/--> | sepal_length | sepal_width | petal_length | sepal_width | species | \n",
       "|---|---|---|---|---|---|\n",
       "| 145 | 6.7            | 3.3            | 5.7            | 2.5            | Iris-virginica | \n",
       "| 146 | 6.7            | 3.0            | 5.2            | 2.3            | Iris-virginica | \n",
       "| 147 | 6.3            | 2.5            | 5.0            | 1.9            | Iris-virginica | \n",
       "| 148 | 6.5            | 3.0            | 5.2            | 2.0            | Iris-virginica | \n",
       "| 149 | 6.2            | 3.4            | 5.4            | 2.3            | Iris-virginica | \n",
       "| 150 | 5.9            | 3.0            | 5.1            | 1.8            | Iris-virginica | \n",
       "\n",
       "\n"
      ],
      "text/plain": [
       "    sepal_length sepal_width petal_length sepal_width species       \n",
       "145 6.7          3.3         5.7          2.5         Iris-virginica\n",
       "146 6.7          3.0         5.2          2.3         Iris-virginica\n",
       "147 6.3          2.5         5.0          1.9         Iris-virginica\n",
       "148 6.5          3.0         5.2          2.0         Iris-virginica\n",
       "149 6.2          3.4         5.4          2.3         Iris-virginica\n",
       "150 5.9          3.0         5.1          1.8         Iris-virginica"
      ]
     },
     "metadata": {},
     "output_type": "display_data"
    }
   ],
   "source": [
    "df$novo = NULL\n",
    "tail(df)"
   ]
  },
  {
   "cell_type": "code",
   "execution_count": null,
   "metadata": {
    "collapsed": true
   },
   "outputs": [],
   "source": []
  }
 ],
 "metadata": {
  "kernelspec": {
   "display_name": "R",
   "language": "R",
   "name": "ir"
  },
  "language_info": {
   "codemirror_mode": "r",
   "file_extension": ".r",
   "mimetype": "text/x-r-source",
   "name": "R",
   "pygments_lexer": "r",
   "version": "3.2.3"
  }
 },
 "nbformat": 4,
 "nbformat_minor": 2
}

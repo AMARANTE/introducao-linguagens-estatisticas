{
 "cells": [
  {
   "cell_type": "markdown",
   "metadata": {},
   "source": [
    "# Agrupamento"
   ]
  },
  {
   "cell_type": "code",
   "execution_count": 4,
   "metadata": {
    "collapsed": true
   },
   "outputs": [],
   "source": [
    "df = read.csv(\"../dados/iris-dataset.csv\", header=FALSE)\n",
    "colnames(df) = c(\"sepal_length\", \"sepal_width\", \"petal_length\", \"sepal_width\", \"species\")"
   ]
  },
  {
   "cell_type": "code",
   "execution_count": 5,
   "metadata": {},
   "outputs": [
    {
     "data": {
      "text/html": [
       "<table>\n",
       "<thead><tr><th scope=col>species</th><th scope=col>x</th></tr></thead>\n",
       "<tbody>\n",
       "\t<tr><td>Iris-setosa    </td><td>5.006          </td></tr>\n",
       "\t<tr><td>Iris-versicolor</td><td>5.936          </td></tr>\n",
       "\t<tr><td>Iris-virginica </td><td>6.588          </td></tr>\n",
       "</tbody>\n",
       "</table>\n"
      ],
      "text/latex": [
       "\\begin{tabular}{r|ll}\n",
       " species & x\\\\\n",
       "\\hline\n",
       "\t Iris-setosa     & 5.006          \\\\\n",
       "\t Iris-versicolor & 5.936          \\\\\n",
       "\t Iris-virginica  & 6.588          \\\\\n",
       "\\end{tabular}\n"
      ],
      "text/markdown": [
       "\n",
       "species | x | \n",
       "|---|---|---|\n",
       "| Iris-setosa     | 5.006           | \n",
       "| Iris-versicolor | 5.936           | \n",
       "| Iris-virginica  | 6.588           | \n",
       "\n",
       "\n"
      ],
      "text/plain": [
       "  species         x    \n",
       "1 Iris-setosa     5.006\n",
       "2 Iris-versicolor 5.936\n",
       "3 Iris-virginica  6.588"
      ]
     },
     "metadata": {},
     "output_type": "display_data"
    }
   ],
   "source": [
    "aggregate(df$sepal_length, by=list(species=df$species), mean)"
   ]
  },
  {
   "cell_type": "code",
   "execution_count": 6,
   "metadata": {},
   "outputs": [
    {
     "data": {
      "text/html": [
       "<table>\n",
       "<thead><tr><th scope=col>species</th><th scope=col>x</th></tr></thead>\n",
       "<tbody>\n",
       "\t<tr><td>Iris-setosa    </td><td>0.3524897      </td></tr>\n",
       "\t<tr><td>Iris-versicolor</td><td>0.5161711      </td></tr>\n",
       "\t<tr><td>Iris-virginica </td><td>0.6358796      </td></tr>\n",
       "</tbody>\n",
       "</table>\n"
      ],
      "text/latex": [
       "\\begin{tabular}{r|ll}\n",
       " species & x\\\\\n",
       "\\hline\n",
       "\t Iris-setosa     & 0.3524897      \\\\\n",
       "\t Iris-versicolor & 0.5161711      \\\\\n",
       "\t Iris-virginica  & 0.6358796      \\\\\n",
       "\\end{tabular}\n"
      ],
      "text/markdown": [
       "\n",
       "species | x | \n",
       "|---|---|---|\n",
       "| Iris-setosa     | 0.3524897       | \n",
       "| Iris-versicolor | 0.5161711       | \n",
       "| Iris-virginica  | 0.6358796       | \n",
       "\n",
       "\n"
      ],
      "text/plain": [
       "  species         x        \n",
       "1 Iris-setosa     0.3524897\n",
       "2 Iris-versicolor 0.5161711\n",
       "3 Iris-virginica  0.6358796"
      ]
     },
     "metadata": {},
     "output_type": "display_data"
    }
   ],
   "source": [
    "aggregate(df$sepal_length, by=list(species=df$species), sd)"
   ]
  },
  {
   "cell_type": "code",
   "execution_count": 7,
   "metadata": {},
   "outputs": [
    {
     "data": {
      "text/html": [
       "<table>\n",
       "<thead><tr><th scope=col>species</th><th scope=col>sepal_length</th></tr></thead>\n",
       "<tbody>\n",
       "\t<tr><td>Iris-setosa    </td><td>5.006          </td></tr>\n",
       "\t<tr><td>Iris-versicolor</td><td>5.936          </td></tr>\n",
       "\t<tr><td>Iris-virginica </td><td>6.588          </td></tr>\n",
       "</tbody>\n",
       "</table>\n"
      ],
      "text/latex": [
       "\\begin{tabular}{r|ll}\n",
       " species & sepal\\_length\\\\\n",
       "\\hline\n",
       "\t Iris-setosa     & 5.006          \\\\\n",
       "\t Iris-versicolor & 5.936          \\\\\n",
       "\t Iris-virginica  & 6.588          \\\\\n",
       "\\end{tabular}\n"
      ],
      "text/markdown": [
       "\n",
       "species | sepal_length | \n",
       "|---|---|---|\n",
       "| Iris-setosa     | 5.006           | \n",
       "| Iris-versicolor | 5.936           | \n",
       "| Iris-virginica  | 6.588           | \n",
       "\n",
       "\n"
      ],
      "text/plain": [
       "  species         sepal_length\n",
       "1 Iris-setosa     5.006       \n",
       "2 Iris-versicolor 5.936       \n",
       "3 Iris-virginica  6.588       "
      ]
     },
     "metadata": {},
     "output_type": "display_data"
    }
   ],
   "source": [
    "aggregate(sepal_length ~ species, df, mean)"
   ]
  },
  {
   "cell_type": "code",
   "execution_count": 30,
   "metadata": {},
   "outputs": [
    {
     "data": {
      "text/html": [
       "<table>\n",
       "<thead><tr><th scope=col>species</th><th scope=col>sepal_length</th><th scope=col>sepal_width</th></tr></thead>\n",
       "<tbody>\n",
       "\t<tr><td>Iris-setosa    </td><td>5.006          </td><td>3.418          </td></tr>\n",
       "\t<tr><td>Iris-versicolor</td><td>5.936          </td><td>2.770          </td></tr>\n",
       "\t<tr><td>Iris-virginica </td><td>6.588          </td><td>2.974          </td></tr>\n",
       "</tbody>\n",
       "</table>\n"
      ],
      "text/latex": [
       "\\begin{tabular}{r|lll}\n",
       " species & sepal\\_length & sepal\\_width\\\\\n",
       "\\hline\n",
       "\t Iris-setosa     & 5.006           & 3.418          \\\\\n",
       "\t Iris-versicolor & 5.936           & 2.770          \\\\\n",
       "\t Iris-virginica  & 6.588           & 2.974          \\\\\n",
       "\\end{tabular}\n"
      ],
      "text/markdown": [
       "\n",
       "species | sepal_length | sepal_width | \n",
       "|---|---|---|\n",
       "| Iris-setosa     | 5.006           | 3.418           | \n",
       "| Iris-versicolor | 5.936           | 2.770           | \n",
       "| Iris-virginica  | 6.588           | 2.974           | \n",
       "\n",
       "\n"
      ],
      "text/plain": [
       "  species         sepal_length sepal_width\n",
       "1 Iris-setosa     5.006        3.418      \n",
       "2 Iris-versicolor 5.936        2.770      \n",
       "3 Iris-virginica  6.588        2.974      "
      ]
     },
     "metadata": {},
     "output_type": "display_data"
    }
   ],
   "source": [
    "aggregate(cbind(sepal_length, sepal_width) ~ species, df, mean)"
   ]
  },
  {
   "cell_type": "code",
   "execution_count": 31,
   "metadata": {},
   "outputs": [
    {
     "data": {
      "text/html": [
       "<table>\n",
       "<thead><tr><th scope=col>species</th><th scope=col>sepal_length</th><th scope=col>sepal_width</th><th scope=col>petal_length</th></tr></thead>\n",
       "<tbody>\n",
       "\t<tr><td>Iris-setosa    </td><td>5.006          </td><td>3.418          </td><td>1.464          </td></tr>\n",
       "\t<tr><td>Iris-versicolor</td><td>5.936          </td><td>2.770          </td><td>4.260          </td></tr>\n",
       "\t<tr><td>Iris-virginica </td><td>6.588          </td><td>2.974          </td><td>5.552          </td></tr>\n",
       "</tbody>\n",
       "</table>\n"
      ],
      "text/latex": [
       "\\begin{tabular}{r|llll}\n",
       " species & sepal\\_length & sepal\\_width & petal\\_length\\\\\n",
       "\\hline\n",
       "\t Iris-setosa     & 5.006           & 3.418           & 1.464          \\\\\n",
       "\t Iris-versicolor & 5.936           & 2.770           & 4.260          \\\\\n",
       "\t Iris-virginica  & 6.588           & 2.974           & 5.552          \\\\\n",
       "\\end{tabular}\n"
      ],
      "text/markdown": [
       "\n",
       "species | sepal_length | sepal_width | petal_length | \n",
       "|---|---|---|\n",
       "| Iris-setosa     | 5.006           | 3.418           | 1.464           | \n",
       "| Iris-versicolor | 5.936           | 2.770           | 4.260           | \n",
       "| Iris-virginica  | 6.588           | 2.974           | 5.552           | \n",
       "\n",
       "\n"
      ],
      "text/plain": [
       "  species         sepal_length sepal_width petal_length\n",
       "1 Iris-setosa     5.006        3.418       1.464       \n",
       "2 Iris-versicolor 5.936        2.770       4.260       \n",
       "3 Iris-virginica  6.588        2.974       5.552       "
      ]
     },
     "metadata": {},
     "output_type": "display_data"
    }
   ],
   "source": [
    "aggregate(. ~ species, df, mean)"
   ]
  }
 ],
 "metadata": {
  "kernelspec": {
   "display_name": "R",
   "language": "R",
   "name": "ir"
  },
  "language_info": {
   "codemirror_mode": "r",
   "file_extension": ".r",
   "mimetype": "text/x-r-source",
   "name": "R",
   "pygments_lexer": "r",
   "version": "3.2.3"
  }
 },
 "nbformat": 4,
 "nbformat_minor": 2
}
